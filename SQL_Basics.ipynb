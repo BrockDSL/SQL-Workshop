{
 "cells": [
  {
   "cell_type": "markdown",
   "id": "ef5ead5f",
   "metadata": {},
   "source": [
    "![DSL_logo](https://raw.githubusercontent.com/BrockDSL/SQL-Workshop/main/dsl_logo.png)\n",
    "\n",
    "\n",
    "# SQL and Databases\n",
    "\n",
    "During this workshop we'll learn how to interact with SQL databases. Our focus will be on pulling information from different tables and constructing queries."
   ]
  },
  {
   "cell_type": "markdown",
   "id": "fd8d2c19",
   "metadata": {},
   "source": [
    "# Before we Begin!\n",
    "\n",
    "1. Please click the 'Copy to Drive' button in the toolbar above\n",
    "1. Click on the Gear icon next to your picture, Select 'Editor' and make sure 'Show Line Numbers' is selected\n",
    "1. Share in the chat box a quick hello and where you are in the world right now."
   ]
  },
  {
   "cell_type": "code",
   "execution_count": null,
   "id": "c23f70b5",
   "metadata": {},
   "outputs": [],
   "source": [
    "#Libraries\n",
    "#We'll use Pandas to interact with the SQL file\n",
    "\n",
    "import sqlite3\n",
    "import pandas as pd\n",
    "import matplotlib.pyplot as plt \n",
    "\n",
    "print(\"Done loading Library\")"
   ]
  },
  {
   "cell_type": "markdown",
   "id": "1d8d6e2c",
   "metadata": {},
   "source": [
    "## What's a Database?\n",
    "\n",
    "The digram above represents how we can conceptualize a database as a series of _tables_ that reference each other. You can think of a _table_ as a very specific spreadsheet. We are going to be looking at a popular database used for teaching SQL that is called [NorthWind](https://docs.yugabyte.com/preview/sample-data/northwind/).\n",
    "\n",
    "We are going to use a type of SQL connection/file called [SQLite](https://www.sqlite.org/index.html). This loads the SQL database into our environment and we can interact with it directly. Often we use mySQL which requires a connection to an SQL server. We use an environment like when we have lots of data to sort through.\n",
    "\n",
    "Run the next cell to download and connect to that Database."
   ]
  },
  {
   "cell_type": "markdown",
   "id": "9e45efa8",
   "metadata": {},
   "source": [
    "![ERD_Diagram](https://github.com/BrockDSL/SQL-Workshop/blob/main/Northwind_ERD.png?raw=true)"
   ]
  },
  {
   "cell_type": "code",
   "execution_count": null,
   "id": "acf43975",
   "metadata": {},
   "outputs": [],
   "source": [
    "#Load SQLite File\n",
    "!wget -O northwind.db \"https://github.com/BrockDSL/SQL-Workshop/blob/main/northwind.db?raw=true\"\n",
    "try:\n",
    "    connection = sqlite3.connect(\"northwind.db\")\n",
    "    print(\"Connection Successful!\")\n",
    "except:\n",
    "    print(\"Error connecting to the database\")\n"
   ]
  },
  {
   "cell_type": "markdown",
   "id": "4d8a0ba6",
   "metadata": {},
   "source": [
    "## Talking to the Database\n",
    "\n",
    "We use a special kind of syntax to access the information that is in the database. We call this an _sql query_. It is very much structured like a sentence."
   ]
  },
  {
   "cell_type": "markdown",
   "id": "9cdb7925",
   "metadata": {},
   "source": [
    "### Show Tables\n",
    "\n",
    "Our first query will be to show all the tables in our database. Using the following:\n",
    "\n",
    "```SQL\n",
    "SELECT name FROM sqlite_master WHERE type='table';\n",
    "```\n"
   ]
  },
  {
   "cell_type": "code",
   "execution_count": null,
   "id": "c789a408",
   "metadata": {
    "scrolled": true
   },
   "outputs": [],
   "source": [
    "SHOW_TABLES = \\\n",
    "\"\"\"\n",
    "\n",
    "SELECT name FROM sqlite_master WHERE type='table';\n",
    "\n",
    "\"\"\"\n",
    "try:\n",
    "    result = pd.read_sql_query(QUERY, connection)\n",
    "except:\n",
    "    print(\"SQL is incorrect\")\n",
    "    result = False\n",
    "result"
   ]
  },
  {
   "cell_type": "markdown",
   "id": "0b4362cf",
   "metadata": {},
   "source": [
    "### Show All Customers and Details\n",
    "\n",
    "We use the wildcard `*` to match any colum from the data.\n",
    "\n",
    "```SQL\n",
    "\n",
    "SELECT * FROM Customers;\n",
    "\n",
    "```"
   ]
  },
  {
   "cell_type": "code",
   "execution_count": null,
   "id": "13212804",
   "metadata": {},
   "outputs": [],
   "source": [
    "QUERY = \\\n",
    "\"\"\"\n",
    "\n",
    "SELECT * FROM Customers;\n",
    "\n",
    "\"\"\"\n",
    "try:\n",
    "    result = pd.read_sql_query(QUERY, connection)\n",
    "except:\n",
    "    print(\"SQL is incorrect\")\n",
    "    result = False\n",
    "result"
   ]
  },
  {
   "cell_type": "markdown",
   "id": "8e7f161d",
   "metadata": {},
   "source": [
    "### Show certain information about Customers\n",
    "\n",
    "We can name columns specifically if we want to only select those. See how this example is different than the previous.\n",
    "\n",
    "```SQL\n",
    "\n",
    "SELECT ContactName, Phone FROM Customers;\n",
    "\n",
    "```"
   ]
  },
  {
   "cell_type": "code",
   "execution_count": null,
   "id": "1a63d05f",
   "metadata": {
    "scrolled": true
   },
   "outputs": [],
   "source": [
    "QUERY = \\\n",
    "\"\"\"\n",
    "\n",
    "SELECT ContactName, Phone FROM Customers;\n",
    "\n",
    "\"\"\"\n",
    "try:\n",
    "    result = pd.read_sql_query(QUERY, connection)\n",
    "except:\n",
    "    print(\"SQL is incorrect\")\n",
    "    result = False\n",
    "result"
   ]
  },
  {
   "cell_type": "markdown",
   "id": "457d0607",
   "metadata": {},
   "source": [
    "### Selecting and Ordering\n",
    "\n",
    "We can order by any of the fields that we select.\n",
    "\n",
    "```SQL\n",
    "SELECT ContactName, Country FROM Customers ORDER BY Country;\n",
    "\n",
    "```"
   ]
  },
  {
   "cell_type": "code",
   "execution_count": null,
   "id": "81a8bf15",
   "metadata": {},
   "outputs": [],
   "source": [
    "QUERY = \\\n",
    "\"\"\"\n",
    "\n",
    "SELECT ContactName, Country FROM Customers ORDER BY Country;\n",
    "\n",
    "\"\"\"\n",
    "try:\n",
    "    result = pd.read_sql_query(QUERY, connection)\n",
    "except:\n",
    "    print(\"SQL is incorrect\")\n",
    "    result = False\n",
    "result"
   ]
  },
  {
   "cell_type": "markdown",
   "id": "cb665678",
   "metadata": {},
   "source": [
    "### Selecting and Comparing Values\n",
    "\n",
    "We can test to see if something is `>`, `>=`, `<`, `<=`, or `=` as in the following.\n",
    "\n",
    "```SQL\n",
    "SELECT * from Orders WHERE Freight > 50;\n",
    "\n",
    "```"
   ]
  },
  {
   "cell_type": "code",
   "execution_count": null,
   "id": "e44491d6",
   "metadata": {},
   "outputs": [],
   "source": [
    "QUERY = \\\n",
    "\"\"\"\n",
    "\n",
    "SELECT * from Orders WHERE Freight > 50;\n",
    "\n",
    "\"\"\"\n",
    "try:\n",
    "    result = pd.read_sql_query(QUERY, connection)\n",
    "except:\n",
    "    print(\"SQL is incorrect\")\n",
    "    result = False\n",
    "result"
   ]
  },
  {
   "cell_type": "markdown",
   "id": "b2a3cecf",
   "metadata": {},
   "source": [
    "### Some Tables for Questions\n",
    "\n",
    "Run the following cells to display some tables to the screen that will help you answer Q1 - Q3. Share in the chat-box when you have completed those questions."
   ]
  },
  {
   "cell_type": "code",
   "execution_count": null,
   "id": "e817d599",
   "metadata": {
    "scrolled": true
   },
   "outputs": [],
   "source": [
    "QUERY = \\\n",
    "\"\"\"\n",
    "\n",
    "SELECT * FROM Products;\n",
    "\n",
    "\"\"\"\n",
    "try:\n",
    "    result = pd.read_sql_query(QUERY, connection)\n",
    "except:\n",
    "    print(\"SQL is incorrect\")\n",
    "    result = False\n",
    "result"
   ]
  },
  {
   "cell_type": "code",
   "execution_count": null,
   "id": "ed713556",
   "metadata": {},
   "outputs": [],
   "source": [
    "QUERY = \\\n",
    "\"\"\"\n",
    "\n",
    "SELECT * FROM Suppliers;\n",
    "\n",
    "\"\"\"\n",
    "try:\n",
    "    result = pd.read_sql_query(QUERY, connection)\n",
    "except:\n",
    "    print(\"SQL is incorrect\")\n",
    "    result = False\n",
    "result"
   ]
  },
  {
   "cell_type": "markdown",
   "id": "2fc334b1",
   "metadata": {},
   "source": [
    "### Q1\n",
    "\n",
    "Write an SQL query to select all _Products_ that have a _UnitPrice_ greater than 10. (Part of the query is written in for you already.)\n"
   ]
  },
  {
   "cell_type": "code",
   "execution_count": null,
   "id": "c5efb3d5",
   "metadata": {},
   "outputs": [],
   "source": [
    "QUERY = \\\n",
    "\"\"\"\n",
    "\n",
    "SELECT * FROM  WHERE;\n",
    "\n",
    "\n",
    "\"\"\"\n",
    "try:\n",
    "    result = pd.read_sql_query(QUERY, connection)\n",
    "except:\n",
    "    print(\"SQL is incorrect\")\n",
    "    result = False\n",
    "result"
   ]
  },
  {
   "cell_type": "markdown",
   "id": "160ae271",
   "metadata": {},
   "source": [
    "### Q2\n",
    "\n",
    "\n",
    "Write an SQL query to select _Company Name_ and _Country_ from the _Suppliers_ table and order the results by County. (Part of the query is written in for you already.)"
   ]
  },
  {
   "cell_type": "code",
   "execution_count": null,
   "id": "b2a5b4fc",
   "metadata": {},
   "outputs": [],
   "source": [
    "QUERY = \\\n",
    "\"\"\"\n",
    "\n",
    "SELECT FROM Suppliers ORDER BY ;\n",
    "\n",
    "\"\"\"\n",
    "try:\n",
    "    result = pd.read_sql_query(QUERY, connection)\n",
    "except:\n",
    "    print(\"SQL is incorrect\")\n",
    "    result = False\n",
    "result"
   ]
  },
  {
   "cell_type": "markdown",
   "id": "9a1696f1",
   "metadata": {},
   "source": [
    "### Q3\n",
    "\n",
    "Write an SQL query to show you _ProductName_ and _UnitPrice_ for any item that has more than 20 units in stock.Write an SQL query to (Part of the query is written in for you already.)"
   ]
  },
  {
   "cell_type": "code",
   "execution_count": null,
   "id": "49655437",
   "metadata": {},
   "outputs": [],
   "source": [
    "QUERY = \\\n",
    "\"\"\"\n",
    "\n",
    "SELECT FROM WHERE > 20;\n",
    "\n",
    "\n",
    "\"\"\"\n",
    "try:\n",
    "    result = pd.read_sql_query(QUERY, connection)\n",
    "except:\n",
    "    print(\"SQL is incorrect\")\n",
    "    result = False\n",
    "result"
   ]
  },
  {
   "cell_type": "markdown",
   "id": "ddc47934",
   "metadata": {},
   "source": [
    "## Aggregate Functions\n",
    "\n",
    "We can peform some basic math with our select statements using aggregate Functions\n",
    "\n",
    "```\n",
    "MIN\n",
    "MAX\n",
    "AVG\n",
    "SUM\n",
    "COUNT\n",
    "```"
   ]
  },
  {
   "cell_type": "markdown",
   "id": "e4a14169",
   "metadata": {},
   "source": [
    "### AVG\n",
    "\n",
    "What is the average price of all of the products that this company sells?\n",
    "\n",
    "```SQL\n",
    "\n",
    "Select AVG(UnitPrice) from Products;\n",
    "\n",
    "```"
   ]
  },
  {
   "cell_type": "code",
   "execution_count": null,
   "id": "1b736d34",
   "metadata": {},
   "outputs": [],
   "source": [
    "QUERY = \\\n",
    "\"\"\"\n",
    "\n",
    "Select AVG(UnitPrice) from Products;\n",
    "\n",
    "\"\"\"\n",
    "try:\n",
    "    result = pd.read_sql_query(QUERY, connection)\n",
    "except:\n",
    "    print(\"SQL is incorrect\")\n",
    "    result = False\n",
    "result"
   ]
  },
  {
   "cell_type": "markdown",
   "id": "e8bb2bf8",
   "metadata": {},
   "source": [
    "### COUNT\n",
    "\n",
    "How many employees does this company have?\n",
    "\n",
    "```SQL\n",
    "\n",
    "SELECT COUNT(EmployeeID) From Employees;\n",
    "\n",
    "```"
   ]
  },
  {
   "cell_type": "code",
   "execution_count": null,
   "id": "9b99b77a",
   "metadata": {},
   "outputs": [],
   "source": [
    "QUERY = \\\n",
    "\"\"\"\n",
    "\n",
    "SELECT COUNT(EmployeeID) From Employees;\n",
    "\n",
    "\"\"\"\n",
    "try:\n",
    "    result = pd.read_sql_query(QUERY, connection)\n",
    "except:\n",
    "    print(\"SQL is incorrect\")\n",
    "    result = False\n",
    "result"
   ]
  },
  {
   "cell_type": "code",
   "execution_count": null,
   "id": "81138af0",
   "metadata": {},
   "outputs": [],
   "source": [
    "QUERY = \\\n",
    "\"\"\"\n",
    "\n",
    "SELECT * From Employees;\n",
    "\n",
    "\"\"\"\n",
    "try:\n",
    "    result = pd.read_sql_query(QUERY, connection)\n",
    "except:\n",
    "    print(\"SQL is incorrect\")\n",
    "    result = False\n",
    "result"
   ]
  },
  {
   "cell_type": "markdown",
   "id": "c9b4d2d0",
   "metadata": {},
   "source": [
    "### Some Tables for Questions\n",
    "\n",
    "Run the following cell to display a table to the screen that will help you answer Q4 - Q6. Share in the chat-box when you have completed those questions."
   ]
  },
  {
   "cell_type": "code",
   "execution_count": null,
   "id": "19a80517",
   "metadata": {},
   "outputs": [],
   "source": [
    "QUERY = \\\n",
    "\"\"\"\n",
    "\n",
    "SELECT * FROM Products;\n",
    "\n",
    "\"\"\"\n",
    "try:\n",
    "    result = pd.read_sql_query(QUERY, connection)\n",
    "except:\n",
    "    print(\"SQL is incorrect\")\n",
    "    result = False\n",
    "result"
   ]
  },
  {
   "cell_type": "markdown",
   "id": "c823d49e",
   "metadata": {},
   "source": [
    "### Q4\n",
    "\n",
    "What product has the most units in stock?"
   ]
  },
  {
   "cell_type": "code",
   "execution_count": null,
   "id": "c506a6bb",
   "metadata": {},
   "outputs": [],
   "source": [
    "QUERY = \\\n",
    "\"\"\"\n",
    "\n",
    "\n",
    "\n",
    "\"\"\"\n",
    "try:\n",
    "    result = pd.read_sql_query(QUERY, connection)\n",
    "except:\n",
    "    print(\"SQL is incorrect\")\n",
    "    result = False\n",
    "result"
   ]
  },
  {
   "cell_type": "markdown",
   "id": "a94aa2ea",
   "metadata": {},
   "source": [
    "### Q5\n",
    "\n",
    "What do they have the most of it stock?"
   ]
  },
  {
   "cell_type": "code",
   "execution_count": null,
   "id": "3172ce32",
   "metadata": {},
   "outputs": [],
   "source": [
    "QUERY = \\\n",
    "\"\"\"\n",
    "\n",
    "\n",
    "\n",
    "\"\"\"\n",
    "try:\n",
    "    result = pd.read_sql_query(QUERY, connection)\n",
    "except:\n",
    "    print(\"SQL is incorrect\")\n",
    "    result = False\n",
    "result"
   ]
  },
  {
   "cell_type": "markdown",
   "id": "974921d3",
   "metadata": {},
   "source": [
    "### Q6\n",
    "\n",
    "What is the total (ie SUM) of all of the products that are in stock and are in category 2."
   ]
  },
  {
   "cell_type": "code",
   "execution_count": null,
   "id": "bb8f9d87",
   "metadata": {},
   "outputs": [],
   "source": [
    "QUERY = \\\n",
    "\"\"\"\n",
    "\n",
    "\n",
    "\n",
    "\"\"\"\n",
    "try:\n",
    "    result = pd.read_sql_query(QUERY, connection)\n",
    "except:\n",
    "    print(\"SQL is incorrect\")\n",
    "    result = False\n",
    "result"
   ]
  },
  {
   "cell_type": "markdown",
   "id": "9719eb70",
   "metadata": {},
   "source": [
    "## Selecting from Multiple Databases\n",
    "\n",
    "The real power in SQL is the ability to create queries that span multiple tables. This section of questions demonstrates how we can do it with **nested queries**"
   ]
  },
  {
   "cell_type": "markdown",
   "id": "d6ff3d7f",
   "metadata": {},
   "source": [
    "### Show Orders and include Customer Info\n",
    "\n",
    "Show all the orders associated with Nancy Davolio\n",
    "\n",
    "\n",
    "```SQL\n",
    "\n",
    "SELECT * FROM Orders WHERE EmployeeID \n",
    "\n",
    "IN(SELECT EmployeeID FROM Employees WHERE FirstName = \"Nancy\");\n",
    "\n",
    "```"
   ]
  },
  {
   "cell_type": "code",
   "execution_count": null,
   "id": "3620ec90",
   "metadata": {
    "scrolled": true
   },
   "outputs": [],
   "source": [
    "QUERY = \\\n",
    "\"\"\"\n",
    "\n",
    "SELECT * FROM Orders WHERE EmployeeID \n",
    "\n",
    "IN(SELECT EmployeeID FROM Employees WHERE FirstName = \"Nancy\");\n",
    "\n",
    "\n",
    "\"\"\"\n",
    "try:\n",
    "    result = pd.read_sql_query(QUERY, connection)\n",
    "except:\n",
    "    print(\"SQL is incorrect\")\n",
    "    result = False\n",
    "result"
   ]
  },
  {
   "cell_type": "code",
   "execution_count": null,
   "id": "9ba23150",
   "metadata": {
    "scrolled": true
   },
   "outputs": [],
   "source": [
    "#Let's doublecheck\n",
    "\n",
    "QUERY = \\\n",
    "\"\"\"\n",
    "\n",
    "SELECT * FROM Employees;\n",
    "\n",
    "\"\"\"\n",
    "try:\n",
    "    result = pd.read_sql_query(QUERY, connection)\n",
    "except:\n",
    "    print(\"SQL is incorrect\")\n",
    "    result = False\n",
    "result"
   ]
  },
  {
   "cell_type": "markdown",
   "id": "93cca938",
   "metadata": {},
   "source": [
    "### Show all products that are beverages\n",
    "\n",
    "```SQL\n",
    "\n",
    "SELECT * FROM Products WHERE CategoryID\n",
    "\n",
    "IN(SELECT CategoryID FROM Categories WHERE CategoryName = \"Beverages\");\n",
    "\n",
    "```"
   ]
  },
  {
   "cell_type": "code",
   "execution_count": null,
   "id": "4ac00389",
   "metadata": {
    "scrolled": true
   },
   "outputs": [],
   "source": [
    "QUERY = \\\n",
    "\"\"\"\n",
    "\n",
    "SELECT * FROM Products WHERE CategoryID\n",
    "\n",
    "IN(SELECT CategoryID FROM Categories WHERE CategoryName = \"Beverages\");\n",
    "\n",
    "\n",
    "\"\"\"\n",
    "try:\n",
    "    result = pd.read_sql_query(QUERY, connection)\n",
    "except:\n",
    "    print(\"SQL is incorrect\")\n",
    "    result = False\n",
    "result"
   ]
  },
  {
   "cell_type": "code",
   "execution_count": null,
   "id": "4868c2ab",
   "metadata": {
    "scrolled": true
   },
   "outputs": [],
   "source": [
    "#Let's doublecheck\n",
    "\n",
    "QUERY = \\\n",
    "\"\"\"\n",
    "\n",
    "SELECT * FROM Categories;\n",
    "\n",
    "\"\"\"\n",
    "try:\n",
    "    result = pd.read_sql_query(QUERY, connection)\n",
    "except:\n",
    "    print(\"SQL is incorrect\")\n",
    "    result = False\n",
    "result"
   ]
  },
  {
   "cell_type": "markdown",
   "id": "9f6207c3",
   "metadata": {},
   "source": [
    "### Show all products that are protiens\n",
    "\n",
    "```SQL\n",
    "\n",
    "SELECT * FROM Products WHERE CategoryID\n",
    "\n",
    "IN(SELECT CategoryID FROM Categories WHERE CategoryName = \"Meat/Poultry\" OR CategoryName = \"Seafood\");\n",
    "\n",
    "```"
   ]
  },
  {
   "cell_type": "code",
   "execution_count": null,
   "id": "b7770052",
   "metadata": {},
   "outputs": [],
   "source": [
    "QUERY = \\\n",
    "\"\"\"\n",
    "\n",
    "SELECT * FROM Products WHERE CategoryID\n",
    "\n",
    "IN(SELECT CategoryID FROM Categories WHERE CategoryName = \"Meat/Poultry\" OR CategoryName = \"Seafood\");\n",
    "\n",
    "\"\"\"\n",
    "try:\n",
    "    result = pd.read_sql_query(QUERY, connection)\n",
    "except:\n",
    "    print(\"SQL is incorrect\")\n",
    "    result = False\n",
    "result"
   ]
  },
  {
   "cell_type": "code",
   "execution_count": null,
   "id": "dd14b2f2",
   "metadata": {
    "scrolled": true
   },
   "outputs": [],
   "source": [
    "#Let's doublecheck\n",
    "\n",
    "QUERY = \\\n",
    "\"\"\"\n",
    "\n",
    "SELECT * FROM Categories;\n",
    "\n",
    "\"\"\"\n",
    "try:\n",
    "    result = pd.read_sql_query(QUERY, connection)\n",
    "except:\n",
    "    print(\"SQL is incorrect\")\n",
    "    result = False\n",
    "result"
   ]
  },
  {
   "cell_type": "markdown",
   "id": "6ebedb74",
   "metadata": {},
   "source": [
    "### Some Tables for Questions\n",
    "\n",
    "Run the following cell to display a table to the screen that will help you answer Q7 - Q9. Share in the chat-box when you have completed those questions."
   ]
  },
  {
   "cell_type": "code",
   "execution_count": null,
   "id": "60360f03",
   "metadata": {},
   "outputs": [],
   "source": [
    "QUERY = \\\n",
    "\"\"\"\n",
    "\n",
    "SELECT * FROM Suppliers;\n",
    "\n",
    "\"\"\"\n",
    "try:\n",
    "    result = pd.read_sql_query(QUERY, connection)\n",
    "except:\n",
    "    print(\"SQL is incorrect\")\n",
    "    result = False\n",
    "result"
   ]
  },
  {
   "cell_type": "code",
   "execution_count": null,
   "id": "21ea8bf8",
   "metadata": {
    "scrolled": true
   },
   "outputs": [],
   "source": [
    "QUERY = \\\n",
    "\"\"\"\n",
    "\n",
    "SELECT * FROM Products;\n",
    "\n",
    "\"\"\"\n",
    "try:\n",
    "    result = pd.read_sql_query(QUERY, connection)\n",
    "except:\n",
    "    print(\"SQL is incorrect\")\n",
    "    result = False\n",
    "result"
   ]
  },
  {
   "cell_type": "markdown",
   "id": "2e020a41",
   "metadata": {},
   "source": [
    "### Q7\n",
    "\n",
    "Write a query to display all of the products that come from the company called Exotic Liquids. (Part of the query is written for you.)"
   ]
  },
  {
   "cell_type": "code",
   "execution_count": null,
   "id": "91145a1d",
   "metadata": {},
   "outputs": [],
   "source": [
    "QUERY = \\\n",
    "\"\"\"\n",
    "\n",
    "SELECT * FROM Products WHERE \n",
    "\n",
    "IN(SELECT SupplierID FROM Suppliers WHERE CompanyName = \"\");\n",
    "\n",
    "\n",
    "\"\"\"\n",
    "try:\n",
    "    result = pd.read_sql_query(QUERY, connection)\n",
    "except:\n",
    "    print(\"SQL is incorrect\")\n",
    "    result = \n",
    "result"
   ]
  },
  {
   "cell_type": "markdown",
   "id": "8c986e10",
   "metadata": {},
   "source": [
    "### Q8\n",
    "\n",
    "What categories of products does \"Leka Trading\" make? (Part of the query is written for you.)"
   ]
  },
  {
   "cell_type": "code",
   "execution_count": null,
   "id": "551b8ed3",
   "metadata": {},
   "outputs": [],
   "source": [
    "QUERY = \\\n",
    "\"\"\"\n",
    "\n",
    "SELECT CategoryID FROM Products WHERE \n",
    "\n",
    "IN(SELECT SupplierID FROM Suppliers WHERE CompanyName = \"\");\n",
    "\n",
    "\"\"\"\n",
    "try:\n",
    "    result = pd.read_sql_query(QUERY, connection)\n",
    "except:\n",
    "    print(\"SQL is incorrect\")\n",
    "    result = False\n",
    "result"
   ]
  },
  {
   "cell_type": "markdown",
   "id": "d6713c9b",
   "metadata": {},
   "source": [
    "### Q9\n",
    "\n",
    "\n",
    "\n",
    "Write a query to display the names of the products that come from the company called \"Bigfoot Breweries\"."
   ]
  },
  {
   "cell_type": "code",
   "execution_count": null,
   "id": "86732480",
   "metadata": {},
   "outputs": [],
   "source": [
    "QUERY = \\\n",
    "\"\"\"\n",
    "\n",
    "\n",
    "\n",
    "\"\"\"\n",
    "try:\n",
    "    result = pd.read_sql_query(QUERY, connection)\n",
    "except:\n",
    "    print(\"SQL is incorrect\")\n",
    "    result = False\n",
    "result"
   ]
  },
  {
   "cell_type": "markdown",
   "id": "883e0004",
   "metadata": {},
   "source": [
    "## More complex Queries\n",
    "\n",
    "Let's bring together all of these pieces and do some more sophisticated queries"
   ]
  },
  {
   "cell_type": "markdown",
   "id": "745b3f6e",
   "metadata": {},
   "source": [
    "### What is the average price of Beverages\n",
    "\n",
    "```SQL\n",
    "\n",
    "SELECT AVG(UnitPrice) FROM Products WHERE CategoryID\n",
    "\n",
    "IN(SELECT CategoryID FROM Categories WHERE CategoryName = \"Beverages\");\n",
    "\n",
    "```"
   ]
  },
  {
   "cell_type": "code",
   "execution_count": null,
   "id": "56df02eb",
   "metadata": {},
   "outputs": [],
   "source": [
    "QUERY = \\\n",
    "\"\"\"\n",
    "\n",
    "SELECT AVG(UnitPrice) FROM Products WHERE CategoryID\n",
    "\n",
    "IN(SELECT CategoryID FROM Categories WHERE CategoryName = \"Beverages\");\n",
    "\n",
    "\"\"\"\n",
    "try:\n",
    "    result = pd.read_sql_query(QUERY, connection)\n",
    "except:\n",
    "    print(\"SQL is incorrect\")\n",
    "    result = False\n",
    "result"
   ]
  },
  {
   "cell_type": "markdown",
   "id": "7a9c961e",
   "metadata": {},
   "source": [
    "### How many products are protiens\n",
    "\n",
    "```SQL\n",
    "\n",
    "\n",
    "SELECT COUNT(*) FROM Products WHERE CategoryID\n",
    "\n",
    "IN(SELECT CategoryID FROM Categories WHERE CategoryName = \"Meat/Poultry\" OR CategoryName = \"Seafood\");\n",
    "\n",
    "\n",
    "```"
   ]
  },
  {
   "cell_type": "code",
   "execution_count": null,
   "id": "f2782105",
   "metadata": {},
   "outputs": [],
   "source": [
    "QUERY = \\\n",
    "\"\"\"\n",
    "\n",
    "SELECT COUNT(*) FROM Products WHERE CategoryID\n",
    "\n",
    "IN(SELECT CategoryID FROM Categories WHERE CategoryName = \"Meat/Poultry\" OR CategoryName = \"Seafood\");\n",
    "\n",
    "\n",
    "\"\"\"\n",
    "try:\n",
    "    result = pd.read_sql_query(QUERY, connection)\n",
    "except:\n",
    "    print(\"SQL is incorrect\")\n",
    "    result = False\n",
    "result"
   ]
  },
  {
   "cell_type": "markdown",
   "id": "70c214dc",
   "metadata": {},
   "source": [
    "### What is the maximum weight of an order shipped by Speedy Express\n",
    "\n",
    "```SQL\n",
    "\n",
    "SELECT MAX(Freight) FROM Orders WHERE ShipVia\n",
    "\n",
    "IN(SELECT ShipperID FROM Shippers WHERE CompanyName = \"Speedy Express\");\n",
    "\n",
    "\n",
    "```"
   ]
  },
  {
   "cell_type": "code",
   "execution_count": null,
   "id": "78baa862",
   "metadata": {},
   "outputs": [],
   "source": [
    "QUERY = \\\n",
    "\"\"\"\n",
    "\n",
    "SELECT MAX(Freight) FROM Orders WHERE ShipVia\n",
    "\n",
    "IN(SELECT ShipperID FROM Shippers WHERE CompanyName = \"Speedy Express\");\n",
    "\n",
    "\n",
    "\"\"\"\n",
    "try:\n",
    "    result = pd.read_sql_query(QUERY, connection)\n",
    "except:\n",
    "    print(\"SQL is incorrect\")\n",
    "    result = False\n",
    "result"
   ]
  },
  {
   "cell_type": "markdown",
   "id": "f31991ab",
   "metadata": {},
   "source": [
    "### Some Tables for Questions\n",
    "\n",
    "Run the following cell to display a table to the screen that will help you answer Q10 - Q12. Share in the chat-box when you have completed those questions."
   ]
  },
  {
   "cell_type": "code",
   "execution_count": null,
   "id": "b592f9b4",
   "metadata": {},
   "outputs": [],
   "source": [
    "QUERY = \\\n",
    "\"\"\"\n",
    "\n",
    "Select * FROM Employees;\n",
    "\n",
    "\n",
    "\"\"\"\n",
    "try:\n",
    "    result = pd.read_sql_query(QUERY, connection)\n",
    "except:\n",
    "    print(\"SQL is incorrect\")\n",
    "    result = False\n",
    "result"
   ]
  },
  {
   "cell_type": "code",
   "execution_count": null,
   "id": "5ddfb69b",
   "metadata": {},
   "outputs": [],
   "source": [
    "QUERY = \\\n",
    "\"\"\"\n",
    "\n",
    "Select * FROM Products;\n",
    "\n",
    "\n",
    "\"\"\"\n",
    "try:\n",
    "    result = pd.read_sql_query(QUERY, connection)\n",
    "except:\n",
    "    print(\"SQL is incorrect\")\n",
    "    result = False\n",
    "result"
   ]
  },
  {
   "cell_type": "markdown",
   "id": "6a67c270",
   "metadata": {},
   "source": [
    "### Q10\n",
    "\n",
    "What is the total number of orders associated with employeers who have _TitleOfCourtesy_ of **Mr.**. (Part of the query is written for you.)"
   ]
  },
  {
   "cell_type": "code",
   "execution_count": null,
   "id": "33658509",
   "metadata": {},
   "outputs": [],
   "source": [
    "QUERY = \\\n",
    "\"\"\"\n",
    "\n",
    "SELECT COUNT(OrderId) FROM ***** WHERE EmployeeID\n",
    "\n",
    "IN(SELECT EmployeeID FROM Employees WHERE TitleOfCourtesy = \"\");\n",
    "\n",
    "\"\"\"\n",
    "try:\n",
    "    result = pd.read_sql_query(QUERY, connection)\n",
    "except:\n",
    "    print(\"SQL is incorrect\")\n",
    "    result = False\n",
    "result"
   ]
  },
  {
   "cell_type": "markdown",
   "id": "3af8bb5f",
   "metadata": {},
   "source": [
    "### Q11\n",
    "\n",
    "What is the total number of orders associated with employeers who have _TitleOfCourtesy_ of **Mrs.** OR **Ms**. (Part of the query is written for you.)\n"
   ]
  },
  {
   "cell_type": "code",
   "execution_count": null,
   "id": "3e735fba",
   "metadata": {},
   "outputs": [],
   "source": [
    "QUERY = \\\n",
    "\"\"\"\n",
    "\n",
    "SELECT COUNT(OrderId) FROM Orders WHERE EmployeeID\n",
    "\n",
    "IN(SELECT **** FROM Employees WHERE TitleOfCourtesy = \"\" OR TitleOfCourtesy = \"\");\n",
    "\n",
    "\n",
    "\n",
    "\"\"\"\n",
    "try:\n",
    "    result = pd.read_sql_query(QUERY, connection)\n",
    "except:\n",
    "    print(\"SQL is incorrect\")\n",
    "    result = False\n",
    "result"
   ]
  },
  {
   "cell_type": "markdown",
   "id": "34a758ce",
   "metadata": {},
   "source": [
    "### Q12\n",
    "\n",
    "How many units are in stock for all items in the Confections and Condiments category? (Part of the query is written for you.)"
   ]
  },
  {
   "cell_type": "code",
   "execution_count": null,
   "id": "71cd4971",
   "metadata": {},
   "outputs": [],
   "source": [
    "QUERY = \\\n",
    "\"\"\"\n",
    "\n",
    "SELECT SUM() FROM Products WHERE CategoryID\n",
    "\n",
    "IN(SELECT CategoryID FROM Categories WHERE CategoryName = \"\" OR CategoryName = \"\")\n",
    "\n",
    "\"\"\"\n",
    "try:\n",
    "    result = pd.read_sql_query(QUERY, connection)\n",
    "except:\n",
    "    print(\"SQL is incorrect\")\n",
    "    result = False\n",
    "result"
   ]
  },
  {
   "cell_type": "markdown",
   "id": "c30ced9e",
   "metadata": {},
   "source": [
    "## One last thing...\n",
    "\n",
    "When we build a query against SQL in Pandas and then visualize our results by piping it into Matplotlib. Here we'll visualize who our best customers are."
   ]
  },
  {
   "cell_type": "code",
   "execution_count": null,
   "id": "3cb0248b",
   "metadata": {},
   "outputs": [],
   "source": [
    "QUERY = \\\n",
    "\"\"\"\n",
    "SELECT * FROM Orders\n",
    "\n",
    "\"\"\"\n",
    "try:\n",
    "    result = pd.read_sql_query(QUERY, connection)\n",
    "\n",
    "    result = result.groupby(\"CustomerID\").count().sort_values(by=\"OrderID\",ascending = False)[\"OrderID\"][0:10]\n",
    "\n",
    "    plt.bar(result.index,result.values)\n",
    "    plt.xticks(rotation = 45)\n",
    "    plt.ylabel(\"Orders Placed\")\n",
    "    plt.xlabel(\"Customer\")\n",
    "    plt.show()\n",
    "except:\n",
    "    print(\"SQL is incorrect\")\n"
   ]
  },
  {
   "cell_type": "markdown",
   "id": "8e84d250",
   "metadata": {},
   "source": [
    "### One Last Question\n",
    "\n",
    "Run the next query help you completed Q13. That is the last question of our workshop.\n"
   ]
  },
  {
   "cell_type": "code",
   "execution_count": null,
   "id": "77e200a5",
   "metadata": {},
   "outputs": [],
   "source": [
    "QUERY = \\\n",
    "\"\"\"\n",
    "\n",
    "SELECT * FROM Orders;\n",
    "\n",
    "\n",
    "\"\"\"\n",
    "try:\n",
    "    result = pd.read_sql_query(QUERY, connection)\n",
    "except:\n",
    "    print(\"SQL is incorrect\")\n",
    "    result = False\n",
    "result"
   ]
  },
  {
   "cell_type": "markdown",
   "id": "539c6395",
   "metadata": {},
   "source": [
    "### Q13\n",
    "\n",
    "See if you can complete the SQL query to make a bar graph to display a bar graph of the what employees have sold the most."
   ]
  },
  {
   "cell_type": "code",
   "execution_count": null,
   "id": "a01d9992",
   "metadata": {},
   "outputs": [],
   "source": [
    "QUERY = \\\n",
    "\"\"\"\n",
    "\n",
    "\n",
    "\"\"\"\n",
    "try:\n",
    "    result = pd.read_sql_query(QUERY, connection)\n",
    "    result = result.groupby(\"EmployeeID\").count()[\"OrderID\"]\n",
    "    plt.bar(result.index,result.values)\n",
    "    plt.title(\"Sales by Employee\")\n",
    "    plt.ylabel(\"Sales\")\n",
    "    plt.xlabel(\"Employee ID\")\n",
    "    plt.show()\n",
    "except:\n",
    "    print(\"SQL is incorrect\")"
   ]
  },
  {
   "cell_type": "markdown",
   "id": "b6817671",
   "metadata": {},
   "source": [
    "---"
   ]
  },
  {
   "cell_type": "markdown",
   "id": "cf623acc",
   "metadata": {},
   "source": [
    "## Congratulations!\n",
    "\n",
    "Congratulations, you have successfully been introduced to SQL and how you can interact with it. It gets **very complex** quickly. There are lots of other places you can go with this.\n",
    "\n",
    "\n",
    "### Further Reading\n",
    "\n",
    "- [Databases and SQL](https://swcarpentry.github.io/sql-novice-survey/) Software Carpentries material on how to interact with a database\n",
    "\n",
    "- [mySQL with R](https://programminghistorian.org/en/lessons/getting-started-with-mysql-using-r) Tutorial from Programming Historian on how to use R to interact with SQL\n",
    "\n",
    "- [Kaggle's SQL Tutorials](https://www.kaggle.com/learn/intro-to-sql) Series of notebooks from Kaggle on how to use SQL for big data.\n",
    "\n",
    "\n",
    "\n",
    "\n",
    "To sign-up for future sessions please check us out on [Eventbrite](https://brockdsl.eventbrite.com)\n",
    "\n",
    "Check us out online at our homepage: [https://brockdsl.github.io](https://brockdsl.github.io)"
   ]
  }
 ],
 "metadata": {
  "kernelspec": {
   "display_name": "Python 3 (ipykernel)",
   "language": "python",
   "name": "python3"
  },
  "language_info": {
   "codemirror_mode": {
    "name": "ipython",
    "version": 3
   },
   "file_extension": ".py",
   "mimetype": "text/x-python",
   "name": "python",
   "nbconvert_exporter": "python",
   "pygments_lexer": "ipython3",
   "version": "3.9.13"
  }
 },
 "nbformat": 4,
 "nbformat_minor": 5
}
