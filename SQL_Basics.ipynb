{
 "cells": [
  {
   "cell_type": "markdown",
   "id": "ef5ead5f",
   "metadata": {},
   "source": [
    "![DSL_logo](https://raw.githubusercontent.com/BrockDSL/SQL-Workshop/main/dsl_logo.png)\n",
    "\n",
    "\n",
    "# SQL and Databases\n",
    "\n",
    "During this workshop we'll learn how to interact with SQL databases. Our focus will be on pulling information from different tables and constructing queries."
   ]
  },
  {
   "cell_type": "markdown",
   "id": "5b577f1a",
   "metadata": {},
   "source": [
    "# Before we Begin!\n",
    "\n",
    "1. Please click the 'Copy to Drive' button in the toolbar above\n",
    "1. Click on the Gear icon next to your picture, Select 'Editor' and make sure 'Show Line Numbers' is selected\n",
    "1. Share in the chat box a quick hello and where you are in the world right now."
   ]
  },
  {
   "cell_type": "code",
   "execution_count": null,
   "id": "c23f70b5",
   "metadata": {},
   "outputs": [],
   "source": [
    "#Libraries\n",
    "#We'll use Pandas to interact with the SQL file\n",
    "\n",
    "import sqlite3\n",
    "import pandas as pd\n",
    "import matplotlib.pyplot as plt \n",
    "\n",
    "print(\"Done loading Library\")"
   ]
  },
  {
   "cell_type": "markdown",
   "id": "002cbaa3",
   "metadata": {},
   "source": [
    "## What's a Database?\n",
    "\n",
    "The digram above represents how we can conceptualize a database as a series of _tables_ that reference each other. You can think of a _table_ as a very specific spreadsheet. We are going to be looking at a popular database used for teaching SQL that is called [NorthWind](https://docs.yugabyte.com/preview/sample-data/northwind/).\n",
    "\n",
    "We are going to use a type of SQL connection/file called [SQLite](https://www.sqlite.org/index.html). This loads the SQL database into our environment and we can interact with it directly. Often we use mySQL which requires a connection to an SQL server. We use an environment like when we have lots of data to sort through.\n",
    "\n",
    "Run the next cell to download and connect to that Database."
   ]
  },
  {
   "cell_type": "markdown",
   "id": "f115b151",
   "metadata": {},
   "source": [
    "![ERD_Diagram](https://github.com/BrockDSL/SQL-Workshop/blob/main/Northwind_ERD.png?raw=true)"
   ]
  },
  {
   "cell_type": "code",
   "execution_count": null,
   "id": "acf43975",
   "metadata": {},
   "outputs": [],
   "source": [
    "#Load SQLite File\n",
    "!wget -O northwind.db \"https://github.com/BrockDSL/SQL-Workshop/blob/main/northwind.db?raw=true\"\n",
    "try:\n",
    "    connection = sqlite3.connect(\"northwind.db\")\n",
    "    print(\"Connection Successful!\")\n",
    "except:\n",
    "    print(\"Error connecting to the database\")\n"
   ]
  },
  {
   "cell_type": "markdown",
   "id": "0f59184a",
   "metadata": {},
   "source": [
    "## Talking to the Database\n",
    "\n",
    "We use a special kind of syntax to access the information that is in the database. We call this an _sql query_. It is very much structured like a sentence."
   ]
  },
  {
   "cell_type": "markdown",
   "id": "7b5562a9",
   "metadata": {},
   "source": [
    "### Show Tables\n",
    "\n",
    "Our first query will be to show all the tables in our database. Using the following:\n",
    "\n",
    "```SQL\n",
    "SELECT name FROM sqlite_master WHERE type='table';\n",
    "```\n"
   ]
  },
  {
   "cell_type": "code",
   "execution_count": null,
   "id": "c789a408",
   "metadata": {
    "scrolled": true
   },
   "outputs": [],
   "source": [
    "SHOW_TABLES = \\\n",
    "\"\"\"\n",
    "\n",
    "SELECT name FROM sqlite_master WHERE type='table';\n",
    "\n",
    "\"\"\"\n",
    "try:\n",
    "    pd.read_sql_query(QUERY, connection)\n",
    "except:\n",
    "    print(\"SQL is incorrect\")"
   ]
  },
  {
   "cell_type": "markdown",
   "id": "0b4362cf",
   "metadata": {},
   "source": [
    "### Show All Customers and Details\n",
    "\n",
    "```SQL\n",
    "\n",
    "SELECT * FROM Customers;\n",
    "\n",
    "```"
   ]
  },
  {
   "cell_type": "code",
   "execution_count": null,
   "id": "13212804",
   "metadata": {},
   "outputs": [],
   "source": [
    "QUERY = \\\n",
    "\"\"\"\n",
    "\n",
    "SELECT * FROM Customers;\n",
    "\n",
    "\"\"\"\n",
    "try:\n",
    "    pd.read_sql_query(QUERY, connection)\n",
    "except:\n",
    "    print(\"SQL is incorrect\")"
   ]
  },
  {
   "cell_type": "markdown",
   "id": "429741a0",
   "metadata": {},
   "source": [
    "### Show certain information about Customers\n",
    "\n",
    "```SQL\n",
    "\n",
    "SELECT ContactName, Phone FROM Customers;\n",
    "\n",
    "```"
   ]
  },
  {
   "cell_type": "code",
   "execution_count": null,
   "id": "1a63d05f",
   "metadata": {
    "scrolled": true
   },
   "outputs": [],
   "source": [
    "QUERY = \\\n",
    "\"\"\"\n",
    "\n",
    "SELECT ContactName, Phone FROM Customers;\n",
    "\n",
    "\"\"\"\n",
    "try:\n",
    "    pd.read_sql_query(QUERY, connection)\n",
    "except:\n",
    "    print(\"SQL is incorrect\")"
   ]
  },
  {
   "cell_type": "markdown",
   "id": "314a57de",
   "metadata": {},
   "source": [
    "### Selecting and Ordering\n",
    "\n",
    "```SQL\n",
    "SELECT ContactName, Country FROM Customers ORDER BY Country;\n",
    "\n",
    "```"
   ]
  },
  {
   "cell_type": "code",
   "execution_count": null,
   "id": "29050dd1",
   "metadata": {},
   "outputs": [],
   "source": [
    "QUERY = \\\n",
    "\"\"\"\n",
    "\n",
    "SELECT ContactName, Country FROM Customers ORDER BY Country;\n",
    "\n",
    "\"\"\"\n",
    "try:\n",
    "    pd.read_sql_query(QUERY, connection)\n",
    "except:\n",
    "    print(\"SQL is incorrect\")"
   ]
  },
  {
   "cell_type": "markdown",
   "id": "ab2a6570",
   "metadata": {},
   "source": [
    "### Selecting and Comparing Values\n",
    "\n",
    "```SQL\n",
    "SELECT * from Orders WHERE Freight > 50;\n",
    "\n",
    "```"
   ]
  },
  {
   "cell_type": "code",
   "execution_count": null,
   "id": "4ce942e8",
   "metadata": {},
   "outputs": [],
   "source": [
    "QUERY = \\\n",
    "\"\"\"\n",
    "\n",
    "SELECT * from Orders WHERE Freight > 50;\n",
    "\n",
    "\"\"\"\n",
    "try:\n",
    "    pd.read_sql_query(QUERY, connection)\n",
    "except:\n",
    "    print(\"SQL is incorrect\")"
   ]
  },
  {
   "cell_type": "markdown",
   "id": "b50442d4",
   "metadata": {},
   "source": [
    "### Q1\n"
   ]
  },
  {
   "cell_type": "code",
   "execution_count": null,
   "id": "7e49bad4",
   "metadata": {},
   "outputs": [],
   "source": [
    "QUERY = \\\n",
    "\"\"\"\n",
    "\n",
    "\n",
    "\"\"\"\n",
    "try:\n",
    "    pd.read_sql_query(QUERY, connection)\n",
    "except:\n",
    "    print(\"SQL is incorrect\")"
   ]
  },
  {
   "cell_type": "markdown",
   "id": "6e74af6a",
   "metadata": {},
   "source": [
    "### Q2"
   ]
  },
  {
   "cell_type": "code",
   "execution_count": null,
   "id": "3b5149de",
   "metadata": {},
   "outputs": [],
   "source": [
    "QUERY = \\\n",
    "\"\"\"\n",
    "\n",
    "\n",
    "\"\"\"\n",
    "try:\n",
    "    pd.read_sql_query(QUERY, connection)\n",
    "except:\n",
    "    print(\"SQL is incorrect\")"
   ]
  },
  {
   "cell_type": "markdown",
   "id": "509cbea0",
   "metadata": {},
   "source": [
    "### Q3"
   ]
  },
  {
   "cell_type": "code",
   "execution_count": null,
   "id": "b773db52",
   "metadata": {},
   "outputs": [],
   "source": [
    "QUERY = \\\n",
    "\"\"\"\n",
    "\n",
    "\n",
    "\"\"\"\n",
    "try:\n",
    "    pd.read_sql_query(QUERY, connection)\n",
    "except:\n",
    "    print(\"SQL is incorrect\")"
   ]
  },
  {
   "cell_type": "markdown",
   "id": "ed3432de",
   "metadata": {},
   "source": [
    "## Aggregate Functions\n",
    "\n",
    "We can peform some basic math with our select statements using aggregate Functions\n",
    "\n",
    "```\n",
    "MIN\n",
    "MAX\n",
    "AVG\n",
    "SUM\n",
    "COUNT\n",
    "```"
   ]
  },
  {
   "cell_type": "markdown",
   "id": "891fe92e",
   "metadata": {},
   "source": [
    "### AVG\n",
    "\n",
    "What is the average price of all of the products that this company sells?\n",
    "\n",
    "```SQL\n",
    "\n",
    "Select AVG(UnitPrice) from Products;\n",
    "\n",
    "```"
   ]
  },
  {
   "cell_type": "code",
   "execution_count": null,
   "id": "692115fa",
   "metadata": {},
   "outputs": [],
   "source": [
    "QUERY = \\\n",
    "\"\"\"\n",
    "\n",
    "Select AVG(UnitPrice) from Products;\n",
    "\n",
    "\"\"\"\n",
    "try:\n",
    "    pd.read_sql_query(QUERY, connection)\n",
    "except:\n",
    "    print(\"SQL is incorrect\")"
   ]
  },
  {
   "cell_type": "markdown",
   "id": "1f7c6d09",
   "metadata": {},
   "source": [
    "### COUNT\n",
    "\n",
    "How many employees does this company have?\n",
    "\n",
    "```SQL\n",
    "\n",
    "SELECT COUNT(EmployeeID) From Employees;\n",
    "\n",
    "```"
   ]
  },
  {
   "cell_type": "code",
   "execution_count": null,
   "id": "d2be4cf6",
   "metadata": {},
   "outputs": [],
   "source": [
    "QUERY = \\\n",
    "\"\"\"\n",
    "\n",
    "SELECT COUNT(EmployeeID) From Employees;\n",
    "\n",
    "\"\"\"\n",
    "try:\n",
    "    pd.read_sql_query(QUERY, connection)\n",
    "except:\n",
    "    print(\"SQL is incorrect\")"
   ]
  },
  {
   "cell_type": "code",
   "execution_count": null,
   "id": "ea26c9b6",
   "metadata": {},
   "outputs": [],
   "source": [
    "QUERY = \\\n",
    "\"\"\"\n",
    "\n",
    "SELECT * From Employees;\n",
    "\n",
    "\"\"\"\n",
    "try:\n",
    "    pd.read_sql_query(QUERY, connection)\n",
    "except:\n",
    "    print(\"SQL is incorrect\")"
   ]
  },
  {
   "cell_type": "markdown",
   "id": "4a011b47",
   "metadata": {},
   "source": [
    "### Q4\n",
    "\n",
    "```SQL\n",
    ";\n",
    "\n",
    "```"
   ]
  },
  {
   "cell_type": "code",
   "execution_count": null,
   "id": "ea8e45d8",
   "metadata": {},
   "outputs": [],
   "source": [
    "QUERY = \\\n",
    "\"\"\"\n",
    "\n",
    "\n",
    "\n",
    "\"\"\"\n",
    "try:\n",
    "    pd.read_sql_query(QUERY, connection)\n",
    "except:\n",
    "    print(\"SQL is incorrect\")"
   ]
  },
  {
   "cell_type": "markdown",
   "id": "85eb7f92",
   "metadata": {},
   "source": [
    "### Q5\n",
    "\n",
    "```SQL\n",
    ";\n",
    "\n",
    "```"
   ]
  },
  {
   "cell_type": "code",
   "execution_count": null,
   "id": "51fcfb89",
   "metadata": {},
   "outputs": [],
   "source": [
    "QUERY = \\\n",
    "\"\"\"\n",
    "\n",
    "\n",
    "\n",
    "\"\"\"\n",
    "try:\n",
    "    pd.read_sql_query(QUERY, connection)\n",
    "except:\n",
    "    print(\"SQL is incorrect\")"
   ]
  },
  {
   "cell_type": "markdown",
   "id": "aba58ea8",
   "metadata": {},
   "source": [
    "### Q6\n",
    "\n",
    "```SQL\n",
    ";\n",
    "\n",
    "```"
   ]
  },
  {
   "cell_type": "code",
   "execution_count": null,
   "id": "8cdf20c4",
   "metadata": {},
   "outputs": [],
   "source": [
    "QUERY = \\\n",
    "\"\"\"\n",
    "\n",
    "\n",
    "\n",
    "\"\"\"\n",
    "try:\n",
    "    pd.read_sql_query(QUERY, connection)\n",
    "except:\n",
    "    print(\"SQL is incorrect\")"
   ]
  },
  {
   "cell_type": "markdown",
   "id": "e0a554ac",
   "metadata": {},
   "source": [
    "## Selecting from Multiple Databases\n",
    "\n",
    "The real power in SQL is the ability to create queries that span multiple tables. The catch in these scenario is that you need to match the _key_ between tables to generate your query.\n"
   ]
  },
  {
   "cell_type": "markdown",
   "id": "831e9bd8",
   "metadata": {},
   "source": [
    "### Show Orders and include Customer Info\n",
    "\n",
    "Show all the orders associated with Nancy Davolio\n",
    "\n",
    "\n",
    "```SQL\n",
    "\n",
    "SELECT * FROM Orders WHERE EmployeeID \n",
    "\n",
    "IN(SELECT EmployeeID FROM Employees WHERE FirstName = \"Nancy\");\n",
    "\n",
    "```"
   ]
  },
  {
   "cell_type": "code",
   "execution_count": null,
   "id": "85e38337",
   "metadata": {
    "scrolled": true
   },
   "outputs": [],
   "source": [
    "QUERY = \\\n",
    "\"\"\"\n",
    "\n",
    "SELECT * FROM Orders WHERE EmployeeID \n",
    "\n",
    "IN(SELECT EmployeeID FROM Employees WHERE FirstName = \"Nancy\");\n",
    "\n",
    "\n",
    "\"\"\"\n",
    "try:\n",
    "    pd.read_sql_query(QUERY, connection)\n",
    "except:\n",
    "    print(\"SQL is incorrect\")"
   ]
  },
  {
   "cell_type": "code",
   "execution_count": null,
   "id": "ac9ec3a0",
   "metadata": {
    "scrolled": true
   },
   "outputs": [],
   "source": [
    "#Let's doublecheck\n",
    "\n",
    "QUERY = \\\n",
    "\"\"\"\n",
    "\n",
    "SELECT * FROM Employees;\n",
    "\n",
    "\"\"\"\n",
    "try:\n",
    "    pd.read_sql_query(QUERY, connection)\n",
    "except:\n",
    "    print(\"SQL is incorrect\")"
   ]
  },
  {
   "cell_type": "markdown",
   "id": "8164d1aa",
   "metadata": {},
   "source": [
    "### Show all products that are beverages\n",
    "\n",
    "```SQL\n",
    "\n",
    "SELECT * FROM Products WHERE CategoryID\n",
    "\n",
    "IN(SELECT CategoryID FROM Categories WHERE CategoryName = \"Beverages\");\n",
    "\n",
    "```"
   ]
  },
  {
   "cell_type": "code",
   "execution_count": null,
   "id": "64a93722",
   "metadata": {
    "scrolled": true
   },
   "outputs": [],
   "source": [
    "QUERY = \\\n",
    "\"\"\"\n",
    "\n",
    "SELECT * FROM Products WHERE CategoryID\n",
    "\n",
    "IN(SELECT CategoryID FROM Categories WHERE CategoryName = \"Beverages\");\n",
    "\n",
    "\n",
    "\"\"\"\n",
    "try:\n",
    "    pd.read_sql_query(QUERY, connection)\n",
    "except:\n",
    "    print(\"SQL is incorrect\")"
   ]
  },
  {
   "cell_type": "code",
   "execution_count": null,
   "id": "c83d0568",
   "metadata": {
    "scrolled": true
   },
   "outputs": [],
   "source": [
    "#Let's doublecheck\n",
    "\n",
    "QUERY = \\\n",
    "\"\"\"\n",
    "\n",
    "SELECT * FROM Categories;\n",
    "\n",
    "\"\"\"\n",
    "try:\n",
    "    pd.read_sql_query(QUERY, connection)\n",
    "except:\n",
    "    print(\"SQL is incorrect\")"
   ]
  },
  {
   "cell_type": "markdown",
   "id": "1ed2d476",
   "metadata": {},
   "source": [
    "### Show all products that are protiens\n",
    "\n",
    "```SQL\n",
    "\n",
    "SELECT * FROM Products WHERE CategoryID\n",
    "\n",
    "IN(SELECT CategoryID FROM Categories WHERE CategoryName = \"Meat/Poultry\" OR CategoryName = \"Seafood\");\n",
    "\n",
    "```"
   ]
  },
  {
   "cell_type": "code",
   "execution_count": null,
   "id": "174a6320",
   "metadata": {},
   "outputs": [],
   "source": [
    "QUERY = \\\n",
    "\"\"\"\n",
    "\n",
    "SELECT * FROM Products WHERE CategoryID\n",
    "\n",
    "IN(SELECT CategoryID FROM Categories WHERE CategoryName = \"Meat/Poultry\" OR CategoryName = \"Seafood\");\n",
    "\n",
    "\"\"\"\n",
    "try:\n",
    "    pd.read_sql_query(QUERY, connection)\n",
    "except:\n",
    "    print(\"SQL is incorrect\")"
   ]
  },
  {
   "cell_type": "code",
   "execution_count": null,
   "id": "c8fa914f",
   "metadata": {
    "scrolled": true
   },
   "outputs": [],
   "source": [
    "#Let's doublecheck\n",
    "\n",
    "QUERY = \\\n",
    "\"\"\"\n",
    "\n",
    "SELECT * FROM Categories;\n",
    "\n",
    "\"\"\"\n",
    "try:\n",
    "    pd.read_sql_query(QUERY, connection)\n",
    "except:\n",
    "    print(\"SQL is incorrect\")"
   ]
  },
  {
   "cell_type": "markdown",
   "id": "554f8c63",
   "metadata": {},
   "source": [
    "### Q7\n",
    "\n",
    "```SQL\n",
    ";\n",
    "\n",
    "```"
   ]
  },
  {
   "cell_type": "code",
   "execution_count": null,
   "id": "5c2c3ab8",
   "metadata": {},
   "outputs": [],
   "source": [
    "QUERY = \\\n",
    "\"\"\"\n",
    "\n",
    "\n",
    "\n",
    "\"\"\"\n",
    "try:\n",
    "    pd.read_sql_query(QUERY, connection)\n",
    "except:\n",
    "    print(\"SQL is incorrect\")"
   ]
  },
  {
   "cell_type": "markdown",
   "id": "3fddcde3",
   "metadata": {},
   "source": [
    "### Q8\n",
    "\n",
    "```SQL\n",
    ";\n",
    "\n",
    "```"
   ]
  },
  {
   "cell_type": "code",
   "execution_count": null,
   "id": "3469daab",
   "metadata": {},
   "outputs": [],
   "source": [
    "QUERY = \\\n",
    "\"\"\"\n",
    "\n",
    "\n",
    "\n",
    "\"\"\"\n",
    "try:\n",
    "    pd.read_sql_query(QUERY, connection)\n",
    "except:\n",
    "    print(\"SQL is incorrect\")"
   ]
  },
  {
   "cell_type": "markdown",
   "id": "6dd9562b",
   "metadata": {},
   "source": [
    "### Q9\n",
    "\n",
    "```SQL\n",
    ";\n",
    "\n",
    "```"
   ]
  },
  {
   "cell_type": "code",
   "execution_count": null,
   "id": "46d4a509",
   "metadata": {},
   "outputs": [],
   "source": [
    "QUERY = \\\n",
    "\"\"\"\n",
    "\n",
    "\n",
    "\n",
    "\"\"\"\n",
    "try:\n",
    "    pd.read_sql_query(QUERY, connection)\n",
    "except:\n",
    "    print(\"SQL is incorrect\")"
   ]
  },
  {
   "cell_type": "markdown",
   "id": "7abce085",
   "metadata": {},
   "source": [
    "## More complex Queries\n",
    "\n",
    "Let's bring together all of these pieces and do some more sophisticated queries"
   ]
  },
  {
   "cell_type": "markdown",
   "id": "4f8d08e0",
   "metadata": {},
   "source": [
    "### What is the average price of Beverages\n",
    "\n",
    "```SQL\n",
    "\n",
    "SELECT AVG(UnitPrice) FROM Products WHERE CategoryID\n",
    "\n",
    "IN(SELECT CategoryID FROM Categories WHERE CategoryName = \"Beverages\");\n",
    "\n",
    "```"
   ]
  },
  {
   "cell_type": "code",
   "execution_count": null,
   "id": "1a844ca8",
   "metadata": {},
   "outputs": [],
   "source": [
    "QUERY = \\\n",
    "\"\"\"\n",
    "\n",
    "SELECT AVG(UnitPrice) FROM Products WHERE CategoryID\n",
    "\n",
    "IN(SELECT CategoryID FROM Categories WHERE CategoryName = \"Beverages\");\n",
    "\n",
    "\"\"\"\n",
    "try:\n",
    "    pd.read_sql_query(QUERY, connection)\n",
    "except:\n",
    "    print(\"SQL is incorrect\")"
   ]
  },
  {
   "cell_type": "markdown",
   "id": "0ca5c74d",
   "metadata": {},
   "source": [
    "### How many products are protiens\n",
    "\n",
    "```SQL\n",
    "\n",
    "\n",
    "SELECT COUNT(*) FROM Products WHERE CategoryID\n",
    "\n",
    "IN(SELECT CategoryID FROM Categories WHERE CategoryName = \"Meat/Poultry\" OR CategoryName = \"Seafood\");\n",
    "\n",
    "\n",
    "```"
   ]
  },
  {
   "cell_type": "code",
   "execution_count": null,
   "id": "64fa2870",
   "metadata": {},
   "outputs": [],
   "source": [
    "QUERY = \\\n",
    "\"\"\"\n",
    "\n",
    "SELECT COUNT(*) FROM Products WHERE CategoryID\n",
    "\n",
    "IN(SELECT CategoryID FROM Categories WHERE CategoryName = \"Meat/Poultry\" OR CategoryName = \"Seafood\");\n",
    "\n",
    "\n",
    "\"\"\"\n",
    "try:\n",
    "    pd.read_sql_query(QUERY, connection)\n",
    "except:\n",
    "    print(\"SQL is incorrect\")"
   ]
  },
  {
   "cell_type": "markdown",
   "id": "b75b321d",
   "metadata": {},
   "source": [
    "### What is the maximum weight of an order shipped by Speedy Express\n",
    "\n",
    "```SQL\n",
    "\n",
    "SELECT MAX(Freight) FROM Orders WHERE ShipVia\n",
    "\n",
    "IN(SELECT ShipperID FROM Shippers WHERE CompanyName = \"Speedy Express\");\n",
    "\n",
    "\n",
    "```"
   ]
  },
  {
   "cell_type": "code",
   "execution_count": null,
   "id": "2cda2483",
   "metadata": {},
   "outputs": [],
   "source": [
    "QUERY = \\\n",
    "\"\"\"\n",
    "\n",
    "SELECT MAX(Freight) FROM Orders WHERE ShipVia\n",
    "\n",
    "IN(SELECT ShipperID FROM Shippers WHERE CompanyName = \"Speedy Express\");\n",
    "\n",
    "\n",
    "\"\"\"\n",
    "try:\n",
    "    pd.read_sql_query(QUERY, connection)\n",
    "except:\n",
    "    print(\"SQL is incorrect\")"
   ]
  },
  {
   "cell_type": "markdown",
   "id": "6ad9b95a",
   "metadata": {},
   "source": [
    "### Q10\n",
    "\n",
    "```SQL\n",
    ";\n",
    "\n",
    "```"
   ]
  },
  {
   "cell_type": "code",
   "execution_count": null,
   "id": "aa410ddf",
   "metadata": {},
   "outputs": [],
   "source": [
    "QUERY = \\\n",
    "\"\"\"\n",
    "\n",
    "\n",
    "\n",
    "\"\"\"\n",
    "try:\n",
    "    pd.read_sql_query(QUERY, connection)\n",
    "except:\n",
    "    print(\"SQL is incorrect\")"
   ]
  },
  {
   "cell_type": "markdown",
   "id": "e803551b",
   "metadata": {},
   "source": [
    "### Q11\n",
    "\n",
    "```SQL\n",
    ";\n",
    "\n",
    "```"
   ]
  },
  {
   "cell_type": "code",
   "execution_count": null,
   "id": "27178876",
   "metadata": {},
   "outputs": [],
   "source": [
    "QUERY = \\\n",
    "\"\"\"\n",
    "\n",
    "\n",
    "\n",
    "\"\"\"\n",
    "try:\n",
    "    pd.read_sql_query(QUERY, connection)\n",
    "except:\n",
    "    print(\"SQL is incorrect\")"
   ]
  },
  {
   "cell_type": "markdown",
   "id": "d2535ebc",
   "metadata": {},
   "source": [
    "### Q12\n",
    "\n",
    "```SQL\n",
    ";\n",
    "\n",
    "```"
   ]
  },
  {
   "cell_type": "code",
   "execution_count": null,
   "id": "0811cbfa",
   "metadata": {},
   "outputs": [],
   "source": [
    "QUERY = \\\n",
    "\"\"\"\n",
    "\n",
    "\n",
    "\n",
    "\"\"\"\n",
    "try:\n",
    "    pd.read_sql_query(QUERY, connection)\n",
    "except:\n",
    "    print(\"SQL is incorrect\")"
   ]
  },
  {
   "cell_type": "markdown",
   "id": "6244c621",
   "metadata": {},
   "source": [
    "## One last thing...\n",
    "\n",
    "When we build a query against SQL in Pandas and then visualize our results by piping it into Matplotlib. Here we'll visualize who our best customers are."
   ]
  },
  {
   "cell_type": "code",
   "execution_count": null,
   "id": "e13cee84",
   "metadata": {},
   "outputs": [],
   "source": [
    "QUERY = \\\n",
    "\"\"\"\n",
    "SELECT * FROM Orders\n",
    "\n",
    "\"\"\"\n",
    "try:\n",
    "    result = pd.read_sql_query(QUERY, connection)\n",
    "\n",
    "    result = result.groupby(\"CustomerID\").count().sort_values(by=\"OrderID\",ascending = False)[\"OrderID\"][0:10]\n",
    "\n",
    "    plt.bar(result.index,result.values)\n",
    "    plt.xticks(rotation = 45)\n",
    "    plt.show()\n",
    "except:\n",
    "    print(\"SQL is incorrect\")"
   ]
  },
  {
   "cell_type": "markdown",
   "id": "abe5ff12",
   "metadata": {},
   "source": [
    "### Q13\n",
    "\n",
    "```SQL\n",
    ";\n",
    "\n",
    "```"
   ]
  },
  {
   "cell_type": "code",
   "execution_count": null,
   "id": "f1a058bb",
   "metadata": {},
   "outputs": [],
   "source": [
    "QUERY = \\\n",
    "\"\"\"\n",
    "\n",
    "\n",
    "\"\"\"\n",
    "try:\n",
    "    result = pd.read_sql_query(QUERY, connection)\n",
    "    result = result.groupby(\"CategoryID\").count()[\"ProductID\"]\n",
    "    plt.bar(result.index,result.values)\n",
    "    plt.xticks(rotation = 45)\n",
    "    plt.show()\n",
    "except:\n",
    "    print(\"SQL is incorrect\")"
   ]
  },
  {
   "cell_type": "markdown",
   "id": "d502a232",
   "metadata": {},
   "source": [
    "### Q14\n",
    "\n",
    "```SQL\n",
    ";\n",
    "\n",
    "```"
   ]
  },
  {
   "cell_type": "code",
   "execution_count": null,
   "id": "0c02dda8",
   "metadata": {},
   "outputs": [],
   "source": [
    "QUERY = \\\n",
    "\"\"\"\n",
    "\n",
    "\n",
    "\n",
    "\"\"\"\n",
    "pd.read_sql_query(QUERY, connection)"
   ]
  },
  {
   "cell_type": "markdown",
   "id": "70efcfdc",
   "metadata": {},
   "source": [
    "---"
   ]
  },
  {
   "cell_type": "markdown",
   "id": "c169a19e",
   "metadata": {},
   "source": [
    "## Congratulations!\n",
    "\n",
    "Congratulations, you have successfully been introduced to SQL and how you can interact with it. It gets **very complex** quickly. There are lots of other places you can go with this.\n",
    "\n",
    "\n",
    "To sign-up for future sessions please check us out on [Eventbrite](https://brockdsl.eventbrite.com) "
   ]
  }
 ],
 "metadata": {
  "kernelspec": {
   "display_name": "Python 3 (ipykernel)",
   "language": "python",
   "name": "python3"
  },
  "language_info": {
   "codemirror_mode": {
    "name": "ipython",
    "version": 3
   },
   "file_extension": ".py",
   "mimetype": "text/x-python",
   "name": "python",
   "nbconvert_exporter": "python",
   "pygments_lexer": "ipython3",
   "version": "3.9.13"
  }
 },
 "nbformat": 4,
 "nbformat_minor": 5
}
