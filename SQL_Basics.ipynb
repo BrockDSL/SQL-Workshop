{
 "cells": [
  {
   "cell_type": "markdown",
   "id": "ef5ead5f",
   "metadata": {},
   "source": [
    "![DSL_logo](https://raw.githubusercontent.com/BrockDSL/SQL-Workshop/main/dsl_logo.png)\n",
    "\n",
    "\n",
    "# SQL and Databases\n",
    "\n",
    "During this workshop we'll learn how to interact with SQL databases. Our focus will be on pulling information from different tables and constructing queries."
   ]
  },
  {
   "cell_type": "markdown",
   "id": "afa1f974",
   "metadata": {},
   "source": [
    "# Before we Begin!\n",
    "\n",
    "1. Please click the 'Copy to Drive' button in the toolbar above\n",
    "1. Click on the Gear icon next to your picture, Select 'Editor' and make sure 'Show Line Numbers' is selected\n",
    "1. Share in the chat box a quick hello and where you are in the world right now."
   ]
  },
  {
   "cell_type": "code",
   "execution_count": null,
   "id": "c23f70b5",
   "metadata": {},
   "outputs": [],
   "source": [
    "#Libraries\n",
    "#We'll use Pandas to interact with the SQL file\n",
    "\n",
    "import sqlite3\n",
    "import pandas as pd\n",
    "\n",
    "print(\"Done loading Library\")"
   ]
  },
  {
   "cell_type": "markdown",
   "id": "50b00f5a",
   "metadata": {},
   "source": [
    "## What's a Database?\n",
    "\n",
    "The digram above represents how we can conceptualize a database as a series of _tables_ that reference each other. You can think of a _table_ as a very specific spreadsheet. We are going to be looking at a popular database used for teaching SQL that is called [NorthWind](https://docs.yugabyte.com/preview/sample-data/northwind/).\n",
    "\n",
    "We are going to use a type of SQL connection/file called [SQLite](https://www.sqlite.org/index.html). This loads the SQL database into our environment and we can interact with it directly. Often we use mySQL which requires a connection to an SQL server. We use an environment like when we have lots of data to sort through.\n",
    "\n",
    "Run the next cell to download and connect to that Database."
   ]
  },
  {
   "cell_type": "markdown",
   "id": "4a32e5e1",
   "metadata": {},
   "source": [
    "![ERD_Diagram](https://github.com/BrockDSL/SQL-Workshop/blob/main/Northwind_ERD.png?raw=true)"
   ]
  },
  {
   "cell_type": "code",
   "execution_count": null,
   "id": "acf43975",
   "metadata": {},
   "outputs": [],
   "source": [
    "#Load SQLite File\n",
    "!wget -O northwind.db \"https://github.com/BrockDSL/SQL-Workshop/blob/main/northwind.db?raw=true\"\n",
    "try:\n",
    "    connection = sqlite3.connect(\"northwind.db\")\n",
    "    print(\"Connection Successful!\")\n",
    "except:\n",
    "    print(\"Error connecting to the database\")\n"
   ]
  },
  {
   "cell_type": "markdown",
   "id": "9630d6e5",
   "metadata": {},
   "source": [
    "## Talking to the Database\n",
    "\n",
    "We use a special kind of syntax to access the information that is in the database. We call this an _sql query_. It is very much structured like a sentence."
   ]
  },
  {
   "cell_type": "markdown",
   "id": "1ee9751f",
   "metadata": {},
   "source": [
    "### Show Tables\n",
    "\n",
    "Our first query will be to show all the tables in our database. Using the following:\n",
    "\n",
    "```SQL\n",
    "SELECT name FROM sqlite_master WHERE type='table';\n",
    "```\n"
   ]
  },
  {
   "cell_type": "code",
   "execution_count": null,
   "id": "c789a408",
   "metadata": {
    "scrolled": true
   },
   "outputs": [],
   "source": [
    "\n",
    "SHOW_TABLES = \\\n",
    "\"\"\"\n",
    "SELECT name FROM sqlite_master WHERE type='table';\n",
    "\"\"\"\n",
    "pd.read_sql_query(SHOW_TABLES, connection)"
   ]
  },
  {
   "cell_type": "markdown",
   "id": "0b4362cf",
   "metadata": {},
   "source": [
    "### Show everything from all Customers\n",
    "\n",
    "```SQL\n",
    "\n",
    "SELECT * FROM Customers;\n",
    "\n",
    "```"
   ]
  },
  {
   "cell_type": "code",
   "execution_count": null,
   "id": "13212804",
   "metadata": {},
   "outputs": [],
   "source": [
    "QUERY = \\\n",
    "\"\"\"\n",
    "SELECT * FROM Customers;\n",
    "\n",
    "\n",
    "\"\"\"\n",
    "pd.read_sql_query(QUERY, connection)"
   ]
  },
  {
   "cell_type": "markdown",
   "id": "94adb5a4",
   "metadata": {},
   "source": [
    "### Show certain information about Customers\n",
    "\n",
    "```SQL\n",
    "\n",
    "SELECT ContactName, Phone FROM Customers;\n",
    "\n",
    "```"
   ]
  },
  {
   "cell_type": "code",
   "execution_count": null,
   "id": "1a63d05f",
   "metadata": {
    "scrolled": true
   },
   "outputs": [],
   "source": [
    "QUERY = \\\n",
    "\"\"\"\n",
    "SELECT ContactName, Phone FROM Customers;\n",
    "\n",
    "\n",
    "\"\"\"\n",
    "pd.read_sql_query(QUERY, connection)"
   ]
  },
  {
   "cell_type": "markdown",
   "id": "330572ab",
   "metadata": {},
   "source": [
    "### Selecting and Ordering\n",
    "\n",
    "```SQL\n",
    "SELECT ContactName, Country FROM Customers ORDER BY Country;\n",
    "\n",
    "```"
   ]
  },
  {
   "cell_type": "code",
   "execution_count": null,
   "id": "36e6fa38",
   "metadata": {},
   "outputs": [],
   "source": [
    "QUERY = \\\n",
    "\"\"\"\n",
    "\n",
    "SELECT ContactName, Country FROM Customers ORDER BY Country;\n",
    "\n",
    "\"\"\"\n",
    "pd.read_sql_query(QUERY, connection)"
   ]
  },
  {
   "cell_type": "markdown",
   "id": "79a187a3",
   "metadata": {},
   "source": [
    "### Selecting and Comparing Values\n",
    "\n",
    "```SQL\n",
    "SELECT * from Orders WHERE Freight > 50;\n",
    "\n",
    "```"
   ]
  },
  {
   "cell_type": "code",
   "execution_count": null,
   "id": "88dbc8bb",
   "metadata": {},
   "outputs": [],
   "source": [
    "QUERY = \\\n",
    "\"\"\"\n",
    "\n",
    "SELECT * from Orders WHERE Freight > 50;\n",
    "\n",
    "\"\"\"\n",
    "pd.read_sql_query(QUERY, connection)"
   ]
  },
  {
   "cell_type": "markdown",
   "id": "b0e0df83",
   "metadata": {},
   "source": [
    "### Q1\n"
   ]
  },
  {
   "cell_type": "code",
   "execution_count": null,
   "id": "11f9e1cb",
   "metadata": {},
   "outputs": [],
   "source": [
    "QUERY = \\\n",
    "\"\"\"\n",
    "\n",
    "\n",
    "\"\"\"\n",
    "pd.read_sql_query(QUERY, connection)"
   ]
  },
  {
   "cell_type": "markdown",
   "id": "2eeb65d3",
   "metadata": {},
   "source": [
    "### Q2"
   ]
  },
  {
   "cell_type": "code",
   "execution_count": null,
   "id": "2d5da13c",
   "metadata": {},
   "outputs": [],
   "source": [
    "QUERY = \\\n",
    "\"\"\"\n",
    "\n",
    "\n",
    "\"\"\"\n",
    "pd.read_sql_query(QUERY, connection)"
   ]
  },
  {
   "cell_type": "markdown",
   "id": "cc607081",
   "metadata": {},
   "source": [
    "### Q3"
   ]
  },
  {
   "cell_type": "code",
   "execution_count": null,
   "id": "a2cd4bb5",
   "metadata": {},
   "outputs": [],
   "source": [
    "QUERY = \\\n",
    "\"\"\"\n",
    "\n",
    "\n",
    "\"\"\"\n",
    "pd.read_sql_query(QUERY, connection)"
   ]
  },
  {
   "cell_type": "markdown",
   "id": "096344ba",
   "metadata": {},
   "source": [
    "### More Complex "
   ]
  },
  {
   "cell_type": "markdown",
   "id": "b280cabc",
   "metadata": {},
   "source": [
    "---"
   ]
  },
  {
   "cell_type": "markdown",
   "id": "819c8b72",
   "metadata": {},
   "source": [
    "### name\n",
    "\n",
    "```SQL\n",
    ";\n",
    "\n",
    "```"
   ]
  },
  {
   "cell_type": "code",
   "execution_count": null,
   "id": "3864ffe0",
   "metadata": {},
   "outputs": [],
   "source": [
    "QUERY = \\\n",
    "\"\"\"\n",
    "\n",
    "\n",
    "\n",
    "\"\"\"\n",
    "pd.read_sql_query(QUERY, connection)"
   ]
  }
 ],
 "metadata": {
  "kernelspec": {
   "display_name": "Python 3 (ipykernel)",
   "language": "python",
   "name": "python3"
  },
  "language_info": {
   "codemirror_mode": {
    "name": "ipython",
    "version": 3
   },
   "file_extension": ".py",
   "mimetype": "text/x-python",
   "name": "python",
   "nbconvert_exporter": "python",
   "pygments_lexer": "ipython3",
   "version": "3.9.13"
  }
 },
 "nbformat": 4,
 "nbformat_minor": 5
}
