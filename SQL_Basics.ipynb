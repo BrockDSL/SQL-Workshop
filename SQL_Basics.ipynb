{
 "cells": [
  {
   "cell_type": "markdown",
   "id": "ef5ead5f",
   "metadata": {},
   "source": [
    "![DSL_logo](https://raw.githubusercontent.com/BrockDSL/SQL-Workshop/main/dsl_logo.png)\n",
    "\n",
    "\n",
    "# SQL and Databases\n",
    "\n",
    "During this workshop we'll learn how to interact with SQL databases. Our focus will be on pulling information from different tables and constructing queries."
   ]
  },
  {
   "cell_type": "markdown",
   "id": "f3a5ee40",
   "metadata": {},
   "source": [
    "# Before we Begin!\n",
    "\n",
    "1. Please click the 'Copy to Drive' button in the toolbar above\n",
    "1. Click on the Gear icon next to your picture, Select 'Editor' and make sure 'Show Line Numbers' is selected\n",
    "1. Share in the chat box a quick hello and where you are in the world right now."
   ]
  },
  {
   "cell_type": "code",
   "execution_count": null,
   "id": "c23f70b5",
   "metadata": {},
   "outputs": [],
   "source": [
    "#Libraries\n",
    "#We'll use Pandas to interact with the SQL file\n",
    "\n",
    "import sqlite3\n",
    "import pandas as pd\n",
    "import matplotlib.pyplot as plt\n",
    "from IPython.display import FileLink, display\n",
    "\n",
    "print(\"Done loading Library\")"
   ]
  },
  {
   "cell_type": "markdown",
   "id": "3bb9aa98",
   "metadata": {},
   "source": [
    "## What's a Database?\n",
    "\n",
    "The digram above represents how we can conceptualize a database as a series of _tables_ that reference each other. You can think of a _table_ as a very specific spreadsheet. We are going to be looking at a popular database used for teaching SQL that is called [NorthWind](https://docs.yugabyte.com/preview/sample-data/northwind/).\n",
    "\n",
    "We are going to use a type of SQL connection/file called [SQLite](https://www.sqlite.org/index.html). This loads the SQL database into our environment and we can interact with it directly. Often we use mySQL which requires a connection to an SQL server. We use an environment like when we have lots of data to sort through.\n",
    "\n",
    "Run the next cell to download and connect to that Database."
   ]
  },
  {
   "cell_type": "markdown",
   "id": "e9c42dee",
   "metadata": {},
   "source": [
    "![ERD_Diagram](https://github.com/BrockDSL/SQL-Workshop/blob/main/Northwind_ERD.png?raw=true)"
   ]
  },
  {
   "cell_type": "code",
   "execution_count": null,
   "id": "acf43975",
   "metadata": {},
   "outputs": [],
   "source": [
    "#Load SQLite File\n",
    "!wget -O northwind.db \"https://github.com/BrockDSL/SQL-Workshop/blob/main/northwind.db?raw=true\"\n",
    "try:\n",
    "    connection = sqlite3.connect(\"northwind.db\")\n",
    "    print(\"Connection Successful!\")\n",
    "except:\n",
    "    print(\"Error connecting to the database\")\n"
   ]
  },
  {
   "cell_type": "markdown",
   "id": "d3dbcdb6",
   "metadata": {},
   "source": [
    "## Talking to the Database\n",
    "\n",
    "We use a special kind of syntax to access the information that is in the database. We call this an _sql query_. It is very much structured like a sentence."
   ]
  },
  {
   "cell_type": "markdown",
   "id": "f9d20d9d",
   "metadata": {},
   "source": [
    "### Show Tables\n",
    "\n",
    "Our first query will be to show all the tables in our database. Using the following:\n",
    "\n",
    "```SQL\n",
    "SELECT name FROM sqlite_master WHERE type='table';\n",
    "```\n"
   ]
  },
  {
   "cell_type": "code",
   "execution_count": null,
   "id": "c789a408",
   "metadata": {
    "scrolled": true
   },
   "outputs": [],
   "source": [
    "QUERY = \\\n",
    "\"\"\"\n",
    "\n",
    "SELECT name FROM sqlite_master WHERE type='table'\n",
    "\n",
    "\"\"\"\n",
    "try:\n",
    "    result = pd.read_sql_query(QUERY, connection)\n",
    "    display(result)\n",
    "except:\n",
    "    print(\"SQL is incorrect\")"
   ]
  },
  {
   "cell_type": "markdown",
   "id": "0b4362cf",
   "metadata": {},
   "source": [
    "### Show All Customers and Details\n",
    "\n",
    "We use the wildcard `*` to match any colum from the data.\n",
    "\n",
    "```SQL\n",
    "\n",
    "SELECT * FROM Customers;\n",
    "\n",
    "```"
   ]
  },
  {
   "cell_type": "code",
   "execution_count": null,
   "id": "13212804",
   "metadata": {},
   "outputs": [],
   "source": [
    "QUERY = \\\n",
    "\"\"\"\n",
    "\n",
    "SELECT * FROM Customers;\n",
    "\n",
    "\"\"\"\n",
    "try:\n",
    "    result = pd.read_sql_query(QUERY, connection)\n",
    "    display(result)\n",
    "except:\n",
    "    print(\"SQL is incorrect\")"
   ]
  },
  {
   "cell_type": "markdown",
   "id": "f6cf603a",
   "metadata": {},
   "source": [
    "### Show certain information about Customers\n",
    "\n",
    "We can name columns specifically if we want to only select those. See how this example is different than the previous.\n",
    "\n",
    "```SQL\n",
    "\n",
    "SELECT ContactName, Phone FROM Customers;\n",
    "\n",
    "```"
   ]
  },
  {
   "cell_type": "code",
   "execution_count": null,
   "id": "1a63d05f",
   "metadata": {
    "scrolled": true
   },
   "outputs": [],
   "source": [
    "QUERY = \\\n",
    "\"\"\"\n",
    "\n",
    "SELECT ContactName, Phone FROM Customers;\n",
    "\n",
    "\"\"\"\n",
    "try:\n",
    "    result = pd.read_sql_query(QUERY, connection)\n",
    "    display(result)\n",
    "except:\n",
    "    print(\"SQL is incorrect\")"
   ]
  },
  {
   "cell_type": "markdown",
   "id": "b13d26fa",
   "metadata": {},
   "source": [
    "### Selecting and Ordering\n",
    "\n",
    "We can order by any of the fields that we select.\n",
    "\n",
    "```SQL\n",
    "SELECT ContactName, Country FROM Customers ORDER BY Country;\n",
    "\n",
    "```"
   ]
  },
  {
   "cell_type": "code",
   "execution_count": null,
   "id": "695c40af",
   "metadata": {},
   "outputs": [],
   "source": [
    "QUERY = \\\n",
    "\"\"\"\n",
    "\n",
    "SELECT ContactName, Country FROM Customers ORDER BY Country;\n",
    "\n",
    "\"\"\"\n",
    "try:\n",
    "    result = pd.read_sql_query(QUERY, connection)\n",
    "    display(result)\n",
    "except:\n",
    "    print(\"SQL is incorrect\")"
   ]
  },
  {
   "cell_type": "markdown",
   "id": "cd1b4982",
   "metadata": {},
   "source": [
    "### Selecting and Comparing Values\n",
    "\n",
    "We can test to see if something is `>`, `>=`, `<`, `<=`, or `=` as in the following.\n",
    "\n",
    "```SQL\n",
    "SELECT * from Orders WHERE Freight > 50;\n",
    "\n",
    "```"
   ]
  },
  {
   "cell_type": "code",
   "execution_count": null,
   "id": "fb26c3fb",
   "metadata": {},
   "outputs": [],
   "source": [
    "QUERY = \\\n",
    "\"\"\"\n",
    "\n",
    "SELECT * from Orders WHERE Freight > 50;\n",
    "\n",
    "\"\"\"\n",
    "try:\n",
    "    result = pd.read_sql_query(QUERY, connection)\n",
    "    display(result)\n",
    "except:\n",
    "    print(\"SQL is incorrect\")"
   ]
  },
  {
   "cell_type": "markdown",
   "id": "0adca907",
   "metadata": {},
   "source": [
    "### Some Tables for Questions\n",
    "\n",
    "Run the following cells to display some tables to the screen that will help you answer Q1 - Q3. Share in the chat-box when you have completed those questions."
   ]
  },
  {
   "cell_type": "code",
   "execution_count": null,
   "id": "27fdb98c",
   "metadata": {
    "scrolled": false
   },
   "outputs": [],
   "source": [
    "QUERY = \\\n",
    "\"\"\"\n",
    "\n",
    "SELECT * FROM Products;\n",
    "\n",
    "\"\"\"\n",
    "try:\n",
    "    result = pd.read_sql_query(QUERY, connection)\n",
    "    display(result)\n",
    "except:\n",
    "    print(\"SQL is incorrect\")"
   ]
  },
  {
   "cell_type": "code",
   "execution_count": null,
   "id": "38e589d1",
   "metadata": {
    "scrolled": true
   },
   "outputs": [],
   "source": [
    "QUERY = \\\n",
    "\"\"\"\n",
    "\n",
    "SELECT * FROM Suppliers;\n",
    "\n",
    "\"\"\"\n",
    "try:\n",
    "    result = pd.read_sql_query(QUERY, connection)\n",
    "    display(result)\n",
    "except:\n",
    "    print(\"SQL is incorrect\")"
   ]
  },
  {
   "cell_type": "markdown",
   "id": "f9b2a11a",
   "metadata": {},
   "source": [
    "### Q1\n",
    "\n",
    "Write an SQL query to select all _Products_ that have a _UnitPrice_ greater than 10. (Part of the query is written in for you already.)\n"
   ]
  },
  {
   "cell_type": "code",
   "execution_count": null,
   "id": "ae1ce439",
   "metadata": {},
   "outputs": [],
   "source": [
    "QUERY = \\\n",
    "\"\"\"\n",
    "\n",
    "SELECT * FROM  WHERE;\n",
    "\n",
    "\n",
    "\"\"\"\n",
    "try:\n",
    "    result = pd.read_sql_query(QUERY, connection)\n",
    "    display(result)\n",
    "except:\n",
    "    print(\"SQL is incorrect\")"
   ]
  },
  {
   "cell_type": "markdown",
   "id": "e2451350",
   "metadata": {},
   "source": [
    "### Q2\n",
    "\n",
    "\n",
    "Write an SQL query to select _Company Name_ and _Country_ from the _Suppliers_ table and order the results by Country. (Part of the query is written in for you already.)"
   ]
  },
  {
   "cell_type": "code",
   "execution_count": null,
   "id": "7b83e0df",
   "metadata": {},
   "outputs": [],
   "source": [
    "QUERY = \\\n",
    "\"\"\"\n",
    "\n",
    "SELECT FROM Suppliers ORDER BY ;\n",
    "\n",
    "\"\"\"\n",
    "try:\n",
    "    result = pd.read_sql_query(QUERY, connection)\n",
    "    display(result)\n",
    "except:\n",
    "    print(\"SQL is incorrect\")"
   ]
  },
  {
   "cell_type": "markdown",
   "id": "b84054a5",
   "metadata": {},
   "source": [
    "### Q3\n",
    "\n",
    "Write an SQL query to show you _ProductName_ and _UnitPrice_ for any item that has more than 20 units in stock.Write an SQL query to (Part of the query is written in for you already.)"
   ]
  },
  {
   "cell_type": "code",
   "execution_count": null,
   "id": "9395e0c3",
   "metadata": {},
   "outputs": [],
   "source": [
    "QUERY = \\\n",
    "\"\"\"\n",
    "\n",
    "SELECT FROM WHERE > 20;\n",
    "\n",
    "\n",
    "\"\"\"\n",
    "try:\n",
    "    result = pd.read_sql_query(QUERY, connection)\n",
    "    display(result)\n",
    "except:\n",
    "    print(\"SQL is incorrect\")"
   ]
  },
  {
   "cell_type": "markdown",
   "id": "a0c7beff",
   "metadata": {},
   "source": [
    "## Aggregate Functions\n",
    "\n",
    "We can peform some basic math with our select statements using aggregate Functions\n",
    "\n",
    "```\n",
    "MIN\n",
    "MAX\n",
    "AVG\n",
    "SUM\n",
    "COUNT\n",
    "```\n",
    "\n",
    "---- "
   ]
  },
  {
   "cell_type": "markdown",
   "id": "ebb2b4f0",
   "metadata": {},
   "source": [
    "### AVG\n",
    "\n",
    "What is the average price of all of the products that this company sells?\n",
    "\n",
    "```SQL\n",
    "\n",
    "Select AVG(UnitPrice) from Products;\n",
    "\n",
    "```"
   ]
  },
  {
   "cell_type": "code",
   "execution_count": null,
   "id": "9132418c",
   "metadata": {},
   "outputs": [],
   "source": [
    "QUERY = \\\n",
    "\"\"\"\n",
    "\n",
    "Select AVG(UnitPrice) from Products;\n",
    "\n",
    "\"\"\"\n",
    "try:\n",
    "    result = pd.read_sql_query(QUERY, connection)\n",
    "    display(result)\n",
    "except:\n",
    "    print(\"SQL is incorrect\")"
   ]
  },
  {
   "cell_type": "markdown",
   "id": "74212eff",
   "metadata": {},
   "source": [
    "### COUNT\n",
    "\n",
    "How many employees does this company have?\n",
    "\n",
    "```SQL\n",
    "\n",
    "SELECT COUNT(EmployeeID) From Employees;\n",
    "\n",
    "```"
   ]
  },
  {
   "cell_type": "code",
   "execution_count": null,
   "id": "266fcf9e",
   "metadata": {},
   "outputs": [],
   "source": [
    "QUERY = \\\n",
    "\"\"\"\n",
    "\n",
    "SELECT COUNT(EmployeeID) From Employees;\n",
    "\n",
    "\"\"\"\n",
    "try:\n",
    "    result = pd.read_sql_query(QUERY, connection)\n",
    "    display(result)\n",
    "except:\n",
    "    print(\"SQL is incorrect\")"
   ]
  },
  {
   "cell_type": "code",
   "execution_count": null,
   "id": "4761563a",
   "metadata": {},
   "outputs": [],
   "source": [
    "QUERY = \\\n",
    "\"\"\"\n",
    "\n",
    "SELECT * From Employees;\n",
    "\n",
    "\"\"\"\n",
    "try:\n",
    "    result = pd.read_sql_query(QUERY, connection)\n",
    "    display(result)\n",
    "except:\n",
    "    print(\"SQL is incorrect\")"
   ]
  },
  {
   "cell_type": "markdown",
   "id": "1db89554",
   "metadata": {},
   "source": [
    "### Some Tables for Questions\n",
    "\n",
    "Run the following cell to display a table to the screen that will help you answer Q4 - Q6. Share in the chat-box when you have completed those questions."
   ]
  },
  {
   "cell_type": "code",
   "execution_count": null,
   "id": "14a794bd",
   "metadata": {},
   "outputs": [],
   "source": [
    "QUERY = \\\n",
    "\"\"\"\n",
    "\n",
    "SELECT * FROM Products;\n",
    "\n",
    "\"\"\"\n",
    "try:\n",
    "    result = pd.read_sql_query(QUERY, connection)\n",
    "    display(result)\n",
    "except:\n",
    "    print(\"SQL is incorrect\")"
   ]
  },
  {
   "cell_type": "markdown",
   "id": "6e162126",
   "metadata": {},
   "source": [
    "### Q4\n",
    "\n",
    "What product has the most units in *stock*? How many units are in stock, and what is the product called?"
   ]
  },
  {
   "cell_type": "code",
   "execution_count": null,
   "id": "4fd273bc",
   "metadata": {},
   "outputs": [],
   "source": [
    "QUERY = \\\n",
    "\"\"\"\n",
    "\n",
    "SELECT ,MAX() FROM ;\n",
    "\n",
    "\"\"\"\n",
    "try:\n",
    "    result = pd.read_sql_query(QUERY, connection)\n",
    "    display(result)\n",
    "except:\n",
    "    print(\"SQL is incorrect\")"
   ]
  },
  {
   "cell_type": "markdown",
   "id": "9e9f7edc",
   "metadata": {},
   "source": [
    "### Q5\n",
    "\n",
    "What product has the most units on *order*? How many units are on order, and what is that product called?"
   ]
  },
  {
   "cell_type": "code",
   "execution_count": null,
   "id": "e8b1dd6f",
   "metadata": {},
   "outputs": [],
   "source": [
    "QUERY = \\\n",
    "\"\"\"\n",
    "\n",
    "\n",
    "\"\"\"\n",
    "try:\n",
    "    result = pd.read_sql_query(QUERY, connection)\n",
    "    display(result)\n",
    "except:\n",
    "    print(\"SQL is incorrect\")"
   ]
  },
  {
   "cell_type": "markdown",
   "id": "66c6210b",
   "metadata": {},
   "source": [
    "### Q6\n",
    "\n",
    "What is the total (ie SUM) of all of the products that are in stock and are in category 2."
   ]
  },
  {
   "cell_type": "code",
   "execution_count": null,
   "id": "c080d985",
   "metadata": {},
   "outputs": [],
   "source": [
    "QUERY = \\\n",
    "\"\"\"\n",
    "\n",
    "SELECT FROM Products WHERE ;\n",
    "\n",
    "\n",
    "\"\"\"\n",
    "try:\n",
    "    result = pd.read_sql_query(QUERY, connection)\n",
    "    display(result)\n",
    "except:\n",
    "    print(\"SQL is incorrect\")"
   ]
  },
  {
   "cell_type": "markdown",
   "id": "02c43d01",
   "metadata": {},
   "source": [
    "## Selecting from Multiple Databases\n",
    "\n",
    "The real power in SQL is the ability to create queries that span multiple tables. This section of questions demonstrates how we can do it with **nested queries**"
   ]
  },
  {
   "cell_type": "markdown",
   "id": "3e3e91ab",
   "metadata": {},
   "source": [
    "### Show Orders and include Customer Info\n",
    "\n",
    "Show all the orders associated with Nancy Davolio\n",
    "\n",
    "\n",
    "```SQL\n",
    "\n",
    "SELECT * FROM Orders WHERE EmployeeID \n",
    "\n",
    "IN(SELECT EmployeeID FROM Employees WHERE FirstName = \"Nancy\");\n",
    "\n",
    "```"
   ]
  },
  {
   "cell_type": "code",
   "execution_count": null,
   "id": "979efdee",
   "metadata": {
    "scrolled": true
   },
   "outputs": [],
   "source": [
    "QUERY = \\\n",
    "\"\"\"\n",
    "\n",
    "SELECT * FROM Orders WHERE EmployeeID \n",
    "\n",
    "IN(SELECT EmployeeID FROM Employees WHERE FirstName = \"Nancy\");\n",
    "\n",
    "\n",
    "\"\"\"\n",
    "try:\n",
    "    result = pd.read_sql_query(QUERY, connection)\n",
    "    display(result)\n",
    "except:\n",
    "    print(\"SQL is incorrect\")"
   ]
  },
  {
   "cell_type": "code",
   "execution_count": null,
   "id": "d58acd23",
   "metadata": {
    "scrolled": true
   },
   "outputs": [],
   "source": [
    "#Let's doublecheck\n",
    "\n",
    "QUERY = \\\n",
    "\"\"\"\n",
    "\n",
    "SELECT * FROM Employees;\n",
    "\n",
    "\"\"\"\n",
    "try:\n",
    "    result = pd.read_sql_query(QUERY, connection)\n",
    "    display(result)\n",
    "except:\n",
    "    print(\"SQL is incorrect\")"
   ]
  },
  {
   "cell_type": "markdown",
   "id": "90dd479c",
   "metadata": {},
   "source": [
    "### Show all products that are beverages\n",
    "\n",
    "```SQL\n",
    "\n",
    "SELECT * FROM Products WHERE CategoryID\n",
    "\n",
    "IN(SELECT CategoryID FROM Categories WHERE CategoryName = \"Beverages\");\n",
    "\n",
    "```"
   ]
  },
  {
   "cell_type": "code",
   "execution_count": null,
   "id": "5b952de6",
   "metadata": {
    "scrolled": true
   },
   "outputs": [],
   "source": [
    "QUERY = \\\n",
    "\"\"\"\n",
    "\n",
    "SELECT * FROM Products WHERE CategoryID\n",
    "\n",
    "IN(SELECT CategoryID FROM Categories WHERE CategoryName = \"Beverages\");\n",
    "\n",
    "\n",
    "\"\"\"\n",
    "try:\n",
    "    result = pd.read_sql_query(QUERY, connection)\n",
    "    display(result)\n",
    "except:\n",
    "    print(\"SQL is incorrect\")"
   ]
  },
  {
   "cell_type": "code",
   "execution_count": null,
   "id": "0fc19d3f",
   "metadata": {
    "scrolled": true
   },
   "outputs": [],
   "source": [
    "#Let's doublecheck\n",
    "\n",
    "QUERY = \\\n",
    "\"\"\"\n",
    "\n",
    "SELECT * FROM Categories;\n",
    "\n",
    "\"\"\"\n",
    "try:\n",
    "    result = pd.read_sql_query(QUERY, connection)\n",
    "    display(result)\n",
    "except:\n",
    "    print(\"SQL is incorrect\")"
   ]
  },
  {
   "cell_type": "markdown",
   "id": "d6429859",
   "metadata": {},
   "source": [
    "### Show all products that are protiens\n",
    "\n",
    "```SQL\n",
    "\n",
    "SELECT * FROM Products WHERE CategoryID\n",
    "\n",
    "IN(SELECT CategoryID FROM Categories WHERE CategoryName = \"Meat/Poultry\" OR CategoryName = \"Seafood\");\n",
    "\n",
    "```"
   ]
  },
  {
   "cell_type": "code",
   "execution_count": null,
   "id": "539da802",
   "metadata": {},
   "outputs": [],
   "source": [
    "QUERY = \\\n",
    "\"\"\"\n",
    "\n",
    "SELECT * FROM Products WHERE CategoryID\n",
    "\n",
    "IN(SELECT CategoryID FROM Categories WHERE CategoryName = \"Meat/Poultry\" OR CategoryName = \"Seafood\");\n",
    "\n",
    "\"\"\"\n",
    "try:\n",
    "    result = pd.read_sql_query(QUERY, connection)\n",
    "    display(result)\n",
    "except:\n",
    "    print(\"SQL is incorrect\")"
   ]
  },
  {
   "cell_type": "code",
   "execution_count": null,
   "id": "66bdaea7",
   "metadata": {
    "scrolled": true
   },
   "outputs": [],
   "source": [
    "#Let's doublecheck\n",
    "\n",
    "QUERY = \\\n",
    "\"\"\"\n",
    "\n",
    "SELECT * FROM Categories;\n",
    "\n",
    "\"\"\"\n",
    "try:\n",
    "    result = pd.read_sql_query(QUERY, connection)\n",
    "    display(result)\n",
    "except:\n",
    "    print(\"SQL is incorrect\")"
   ]
  },
  {
   "cell_type": "markdown",
   "id": "9d8e3db4",
   "metadata": {},
   "source": [
    "### Some Tables for Questions\n",
    "\n",
    "Run the following cell to display a table to the screen that will help you answer Q7 - Q9. Share in the chat-box when you have completed those questions."
   ]
  },
  {
   "cell_type": "code",
   "execution_count": null,
   "id": "3a9737dc",
   "metadata": {},
   "outputs": [],
   "source": [
    "QUERY = \\\n",
    "\"\"\"\n",
    "\n",
    "SELECT * FROM Suppliers;\n",
    "\n",
    "\"\"\"\n",
    "try:\n",
    "    result = pd.read_sql_query(QUERY, connection)\n",
    "    display(result)\n",
    "except:\n",
    "    print(\"SQL is incorrect\")"
   ]
  },
  {
   "cell_type": "code",
   "execution_count": null,
   "id": "b564bcdb",
   "metadata": {
    "scrolled": true
   },
   "outputs": [],
   "source": [
    "QUERY = \\\n",
    "\"\"\"\n",
    "\n",
    "SELECT * FROM Products;\n",
    "\n",
    "\"\"\"\n",
    "try:\n",
    "    result = pd.read_sql_query(QUERY, connection)\n",
    "    display(result)\n",
    "except:\n",
    "    print(\"SQL is incorrect\")"
   ]
  },
  {
   "cell_type": "markdown",
   "id": "6780c462",
   "metadata": {},
   "source": [
    "### Q7\n",
    "\n",
    "Write a query to display all of the products that come from the company called Exotic Liquids. (Part of the query is written for you.)"
   ]
  },
  {
   "cell_type": "code",
   "execution_count": null,
   "id": "cf01dc5f",
   "metadata": {},
   "outputs": [],
   "source": [
    "QUERY = \\\n",
    "\"\"\"\n",
    "\n",
    "SELECT * FROM Products WHERE SupplierID\n",
    "\n",
    "IN(SELECT SupplierID FROM Suppliers WHERE CompanyName = \"\");\n",
    "\n",
    "\n",
    "\"\"\"\n",
    "try:\n",
    "    result = pd.read_sql_query(QUERY, connection)\n",
    "    display(result)\n",
    "except:\n",
    "    print(\"SQL is incorrect\")"
   ]
  },
  {
   "cell_type": "markdown",
   "id": "c351766f",
   "metadata": {},
   "source": [
    "### Q8\n",
    "\n",
    "What categories of products does \"Leka Trading\" make? (Part of the query is written for you.)"
   ]
  },
  {
   "cell_type": "code",
   "execution_count": null,
   "id": "7ef19c1f",
   "metadata": {},
   "outputs": [],
   "source": [
    "QUERY = \\\n",
    "\"\"\"\n",
    "\n",
    "SELECT CategoryID FROM Products WHERE ProductID\n",
    "\n",
    "IN(SELECT SupplierID FROM Suppliers WHERE CompanyName = \"\");\n",
    "\n",
    "\"\"\"\n",
    "try:\n",
    "    result = pd.read_sql_query(QUERY, connection)\n",
    "    display(result)\n",
    "except:\n",
    "    print(\"SQL is incorrect\")"
   ]
  },
  {
   "cell_type": "markdown",
   "id": "fda3f723",
   "metadata": {},
   "source": [
    "### Q9\n",
    "\n",
    "\n",
    "\n",
    "Write a query to display the names of the products that come from the company called \"Bigfoot Breweries\"."
   ]
  },
  {
   "cell_type": "code",
   "execution_count": null,
   "id": "66ce9128",
   "metadata": {},
   "outputs": [],
   "source": [
    "QUERY = \\\n",
    "\"\"\"\n",
    "\n",
    "SELECT ProductName FROM Products WHERE SupplierID\n",
    "\n",
    "IN ();\n",
    "\n",
    "\n",
    "\"\"\"\n",
    "try:\n",
    "    result = pd.read_sql_query(QUERY, connection)\n",
    "    display(result)\n",
    "except:\n",
    "    print(\"SQL is incorrect\")"
   ]
  },
  {
   "cell_type": "markdown",
   "id": "8e63f7d5",
   "metadata": {},
   "source": [
    "## Basic Visualization Stuff\n",
    "\n",
    "When we build a query against SQL in Pandas and then visualize our results by piping it into Matplotlib. Here we'll visualize who our 10 best customers are."
   ]
  },
  {
   "cell_type": "code",
   "execution_count": null,
   "id": "4e501fcb",
   "metadata": {
    "scrolled": true
   },
   "outputs": [],
   "source": [
    "QUERY = \\\n",
    "\"\"\"\n",
    "SELECT \n",
    "    CustomerID, \n",
    "    COUNT(CustomerID) \n",
    "FROM \n",
    "    Orders \n",
    "GROUP BY \n",
    "    CustomerID \n",
    "    \n",
    "ORDER BY \n",
    "    COUNT(CustomerID) DESC;\n",
    "\n",
    "\"\"\"\n",
    "try:\n",
    "    #This next line limits our results to the top 10 rows of our results\n",
    "    result = pd.read_sql_query(QUERY, connection)[0:10]\n",
    "    display(result)\n",
    "    plt.bar(result[\"CustomerID\"],result[\"COUNT(CustomerID)\"])\n",
    "    plt.xticks(rotation = 45)\n",
    "    plt.ylabel(\"Orders Placed\")\n",
    "    plt.xlabel(\"Customer\")\n",
    "    plt.show()\n",
    "except:\n",
    "    print(\"SQL is incorrect\")\n"
   ]
  },
  {
   "cell_type": "markdown",
   "id": "53f4886d",
   "metadata": {},
   "source": [
    "### One Last Question\n",
    "\n",
    "Run the next query help you complete Q10. That is the last question of our workshop.\n"
   ]
  },
  {
   "cell_type": "code",
   "execution_count": null,
   "id": "47fc6ed2",
   "metadata": {},
   "outputs": [],
   "source": [
    "QUERY = \\\n",
    "\"\"\"\n",
    "\n",
    "SELECT \n",
    "    * \n",
    "FROM \n",
    "    Orders;\n",
    "\n",
    "\"\"\"\n",
    "try:\n",
    "    result = pd.read_sql_query(QUERY, connection)\n",
    "    display(result)\n",
    "except:\n",
    "    print(\"SQL is incorrect\")"
   ]
  },
  {
   "cell_type": "markdown",
   "id": "656cad08",
   "metadata": {},
   "source": [
    "### Q10\n",
    "\n",
    "See if you can complete the SQL query to make a bar graph to display a bar graph of the what employees have sold the most."
   ]
  },
  {
   "cell_type": "code",
   "execution_count": null,
   "id": "9c273892",
   "metadata": {},
   "outputs": [],
   "source": [
    "QUERY = \\\n",
    "\"\"\"\n",
    "\n",
    "SELECT \n",
    "    EmployeeID, \n",
    "    COUNT() \n",
    "FROM \n",
    "       \n",
    "GROUP BY \n",
    "    EmployeeID;\n",
    "\n",
    "\n",
    "\"\"\"\n",
    "try:\n",
    "    result = pd.read_sql_query(QUERY, connection)\n",
    "    display(result)\n",
    "    plt.bar(result[\"EmployeeID\"],result[\"COUNT(EmployeeID)\"])\n",
    "    plt.title(\"Sales by Employee\")\n",
    "    plt.ylabel(\"Sales\")\n",
    "    plt.xlabel(\"Employee ID\")\n",
    "    plt.show()\n",
    "except:\n",
    "    print(\"SQL is incorrect\")\n",
    "    \n"
   ]
  },
  {
   "cell_type": "markdown",
   "id": "0eea9ab3",
   "metadata": {},
   "source": [
    "## One last thing! Getting Results out of SQL\n",
    "\n",
    "It is possible to take your SQL query and put it into something like a CSV file so that you can work with the data directly in something like Excel. The following cell demonstrates this."
   ]
  },
  {
   "cell_type": "code",
   "execution_count": null,
   "id": "bd801943",
   "metadata": {},
   "outputs": [],
   "source": [
    "QUERY = \\\n",
    "\"\"\"\n",
    "\n",
    "SELECT * FROM CUSTOMERS;\n",
    "\n",
    "\"\"\"\n",
    "try:\n",
    "    result = pd.read_sql_query(QUERY, connection)\n",
    "    result.to_csv('SQL_output.csv',index=False)\n",
    "    display(result)\n",
    "    \n",
    "except:\n",
    "    print(\"SQL is incorrect\")"
   ]
  },
  {
   "cell_type": "markdown",
   "id": "5f216e20",
   "metadata": {},
   "source": [
    "## Downloading your file\n",
    "\n",
    "Once you have made the SQL query that you want in the cell above, run this next cell to get a link to download your file."
   ]
  },
  {
   "cell_type": "code",
   "execution_count": null,
   "id": "c6c3bb69",
   "metadata": {},
   "outputs": [],
   "source": [
    "#If by chance you are working working in Anaconda \n",
    "#comment lines 5,6 uncomment 2\n",
    "#FileLink('./SQL_output.csv')\n",
    "\n",
    "from google.colab import files\n",
    "files.download('SQL_output.csv')"
   ]
  },
  {
   "cell_type": "markdown",
   "id": "065f0899",
   "metadata": {},
   "source": [
    "## Congratulations!\n",
    "\n",
    "Congratulations, you have successfully been introduced to SQL and how you can interact with it. It gets **very complex** quickly. There are lots of other places you can go with this.\n",
    "\n",
    "\n",
    "### Further Reading\n",
    "\n",
    "- [Databases and SQL](https://swcarpentry.github.io/sql-novice-survey/) Software Carpentries material on how to interact with a database\n",
    "\n",
    "- [mySQL with R](https://programminghistorian.org/en/lessons/getting-started-with-mysql-using-r) Tutorial from Programming Historian on how to use R to interact with SQL\n",
    "\n",
    "- [Kaggle's SQL Tutorials](https://www.kaggle.com/learn/intro-to-sql) Series of notebooks from Kaggle on how to use SQL for big data.\n",
    "\n",
    "\n",
    "\n",
    "\n",
    "To sign-up for future sessions please check us out on [Eventbrite](https://brockdsl.eventbrite.com)\n",
    "\n",
    "Check us out online at our homepage: [https://brockdsl.github.io](https://brockdsl.github.io)"
   ]
  },
  {
   "cell_type": "markdown",
   "id": "4c640a50",
   "metadata": {},
   "source": [
    "## Homework!\n",
    "\n",
    "If you want more of a challenge try the questions below. They combine the use of aggregate functions as well as nested queries."
   ]
  },
  {
   "cell_type": "markdown",
   "id": "3d19f5bc",
   "metadata": {},
   "source": [
    "### What is the average price of Beverages?\n",
    "\n",
    "```SQL\n",
    "\n",
    "SELECT AVG(UnitPrice) FROM Products WHERE CategoryID\n",
    "\n",
    "IN(SELECT CategoryID FROM Categories WHERE CategoryName = \"Beverages\");\n",
    "\n",
    "```"
   ]
  },
  {
   "cell_type": "code",
   "execution_count": null,
   "id": "e0b59856",
   "metadata": {},
   "outputs": [],
   "source": [
    "QUERY = \\\n",
    "\"\"\"\n",
    "\n",
    "SELECT AVG(UnitPrice) FROM Products WHERE CategoryID\n",
    "\n",
    "IN(SELECT CategoryID FROM Categories WHERE CategoryName = \"Beverages\");\n",
    "\n",
    "\"\"\"\n",
    "try:\n",
    "    result = pd.read_sql_query(QUERY, connection)\n",
    "    display(result)\n",
    "except:\n",
    "    print(\"SQL is incorrect\")"
   ]
  },
  {
   "cell_type": "markdown",
   "id": "61341a44",
   "metadata": {},
   "source": [
    "### How many products are Proteins?\n",
    "\n",
    "```SQL\n",
    "\n",
    "\n",
    "SELECT COUNT(*) FROM Products WHERE CategoryID\n",
    "\n",
    "IN(SELECT CategoryID FROM Categories WHERE CategoryName = \"Meat/Poultry\" OR CategoryName = \"Seafood\");\n",
    "\n",
    "\n",
    "```"
   ]
  },
  {
   "cell_type": "code",
   "execution_count": null,
   "id": "9826e3c5",
   "metadata": {},
   "outputs": [],
   "source": [
    "QUERY = \\\n",
    "\"\"\"\n",
    "\n",
    "SELECT COUNT(*) FROM Products WHERE CategoryID\n",
    "\n",
    "IN(SELECT CategoryID FROM Categories WHERE CategoryName = \"Meat/Poultry\" OR CategoryName = \"Seafood\");\n",
    "\n",
    "\n",
    "\"\"\"\n",
    "try:\n",
    "    result = pd.read_sql_query(QUERY, connection)\n",
    "    display(result)\n",
    "except:\n",
    "    print(\"SQL is incorrect\")"
   ]
  },
  {
   "cell_type": "markdown",
   "id": "e59e7bde",
   "metadata": {},
   "source": [
    "### What is the maximum weight of an order shipped by Speedy Express?\n",
    "\n",
    "```SQL\n",
    "\n",
    "SELECT MAX(Freight) FROM Orders WHERE ShipVia\n",
    "\n",
    "IN(SELECT ShipperID FROM Shippers WHERE CompanyName = \"Speedy Express\");\n",
    "\n",
    "\n",
    "```"
   ]
  },
  {
   "cell_type": "code",
   "execution_count": null,
   "id": "9df316c5",
   "metadata": {},
   "outputs": [],
   "source": [
    "QUERY = \\\n",
    "\"\"\"\n",
    "\n",
    "SELECT MAX(Freight) FROM Orders WHERE ShipVia\n",
    "\n",
    "IN(SELECT ShipperID FROM Shippers WHERE CompanyName = \"Speedy Express\");\n",
    "\n",
    "\n",
    "\"\"\"\n",
    "try:\n",
    "    result = pd.read_sql_query(QUERY, connection)\n",
    "    display(result)\n",
    "except:\n",
    "    print(\"SQL is incorrect\")"
   ]
  },
  {
   "cell_type": "markdown",
   "id": "f19a3e2d",
   "metadata": {},
   "source": [
    "### Some Tables for Questions\n",
    "\n",
    "Run the following cell to display a table to the screen that will help you answer Q11 - Q13. Share in the chat-box when you have completed those questions."
   ]
  },
  {
   "cell_type": "code",
   "execution_count": null,
   "id": "92c3ea5c",
   "metadata": {},
   "outputs": [],
   "source": [
    "QUERY = \\\n",
    "\"\"\"\n",
    "\n",
    "Select * FROM Employees;\n",
    "\n",
    "\n",
    "\"\"\"\n",
    "try:\n",
    "    result = pd.read_sql_query(QUERY, connection)\n",
    "    display(result)\n",
    "except:\n",
    "    print(\"SQL is incorrect\")"
   ]
  },
  {
   "cell_type": "code",
   "execution_count": null,
   "id": "b71532c3",
   "metadata": {},
   "outputs": [],
   "source": [
    "QUERY = \\\n",
    "\"\"\"\n",
    "\n",
    "Select * FROM Products;\n",
    "\n",
    "\n",
    "\"\"\"\n",
    "try:\n",
    "    result = pd.read_sql_query(QUERY, connection)\n",
    "    display(result)\n",
    "except:\n",
    "    print(\"SQL is incorrect\")"
   ]
  },
  {
   "cell_type": "markdown",
   "id": "bbb27608",
   "metadata": {},
   "source": [
    "### Q11\n",
    "\n",
    "What is the total number of orders associated with employeers who have _TitleOfCourtesy_ of **Mr.**. (Part of the query is written for you.)"
   ]
  },
  {
   "cell_type": "code",
   "execution_count": null,
   "id": "c50d0dca",
   "metadata": {},
   "outputs": [],
   "source": [
    "QUERY = \\\n",
    "\"\"\"\n",
    "\n",
    "SELECT COUNT(OrderId) FROM ***** WHERE EmployeeID\n",
    "\n",
    "IN(SELECT EmployeeID FROM Employees WHERE TitleOfCourtesy = \"\");\n",
    "\n",
    "\"\"\"\n",
    "try:\n",
    "    result = pd.read_sql_query(QUERY, connection)\n",
    "    display(result)\n",
    "except:\n",
    "    print(\"SQL is incorrect\")"
   ]
  },
  {
   "cell_type": "markdown",
   "id": "7e29a768",
   "metadata": {},
   "source": [
    "### Q12\n",
    "\n",
    "What is the total number of orders associated with employeers who have _TitleOfCourtesy_ of **Mrs.** OR **Ms**. (Part of the query is written for you.)\n"
   ]
  },
  {
   "cell_type": "code",
   "execution_count": null,
   "id": "e1728dbd",
   "metadata": {},
   "outputs": [],
   "source": [
    "QUERY = \\\n",
    "\"\"\"\n",
    "\n",
    "SELECT COUNT(OrderId) FROM Orders WHERE EmployeeID\n",
    "\n",
    "IN(SELECT **** FROM Employees WHERE TitleOfCourtesy = \"\" OR TitleOfCourtesy = \"\");\n",
    "\n",
    "\n",
    "\n",
    "\"\"\"\n",
    "try:\n",
    "    result = pd.read_sql_query(QUERY, connection)\n",
    "    display(result)\n",
    "except:\n",
    "    print(\"SQL is incorrect\")"
   ]
  },
  {
   "cell_type": "markdown",
   "id": "256424f7",
   "metadata": {},
   "source": [
    "### Q13\n",
    "\n",
    "How many units are in stock for all items in the Confections and Condiments category? (Part of the query is written for you.)"
   ]
  },
  {
   "cell_type": "code",
   "execution_count": null,
   "id": "dbdbc32b",
   "metadata": {},
   "outputs": [],
   "source": [
    "QUERY = \\\n",
    "\"\"\"\n",
    "\n",
    "SELECT SUM() FROM Products WHERE CategoryID\n",
    "\n",
    "IN(SELECT CategoryID FROM Categories WHERE CategoryName = \"\" OR CategoryName = \"\")\n",
    "\n",
    "\"\"\"\n",
    "try:\n",
    "    result = pd.read_sql_query(QUERY, connection)\n",
    "    display(result)\n",
    "except:\n",
    "    print(\"SQL is incorrect\")"
   ]
  }
 ],
 "metadata": {
  "kernelspec": {
   "display_name": "Python 3 (ipykernel)",
   "language": "python",
   "name": "python3"
  },
  "language_info": {
   "codemirror_mode": {
    "name": "ipython",
    "version": 3
   },
   "file_extension": ".py",
   "mimetype": "text/x-python",
   "name": "python",
   "nbconvert_exporter": "python",
   "pygments_lexer": "ipython3",
   "version": "3.9.13"
  }
 },
 "nbformat": 4,
 "nbformat_minor": 5
}
